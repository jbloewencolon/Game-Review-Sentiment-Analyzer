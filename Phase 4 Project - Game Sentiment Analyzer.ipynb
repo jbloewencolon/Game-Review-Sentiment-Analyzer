{
 "cells": [
  {
   "cell_type": "code",
   "execution_count": 81,
   "metadata": {
    "scrolled": true
   },
   "outputs": [],
   "source": [
    "import pandas as pd\n",
    "import re\n",
    "import numpy as np\n",
    "import nltk\n",
    "from sklearn.feature_extraction.text import TfidfVectorizer\n",
    "from sklearn.preprocessing import LabelEncoder, FunctionTransformer, StandardScaler\n",
    "from sklearn.base import TransformerMixin\n",
    "from sklearn.model_selection import train_test_split, GridSearchCV\n",
    "from sklearn.linear_model import LogisticRegression\n",
    "from sklearn.ensemble import RandomForestClassifier\n",
    "from sklearn.metrics import classification_report, confusion_matrix\n",
    "from sklearn.pipeline import Pipeline\n",
    "from sklearn.compose import ColumnTransformer\n",
    "from scipy.stats import randint, uniform\n",
    "from xgboost import XGBClassifier\n",
    "from nltk.stem import WordNetLemmatizer\n",
    "from nltk.tokenize import word_tokenize\n",
    "from nltk.corpus import stopwords\n",
    "from nltk.probability import FreqDist\n",
    "from nltk.collocations import BigramAssocMeasures, BigramCollocationFinder\n",
    "from textblob import TextBlob, Blobber\n",
    "from textblob.sentiments import NaiveBayesAnalyzer\n",
    "from gensim.utils import simple_preprocess\n",
    "from gensim.parsing.preprocessing import STOPWORDS\n",
    "from gensim.corpora import Dictionary\n",
    "from gensim.models import LdaModel\n",
    "from gensim.models.phrases import Phrases\n",
    "from collections import Counter\n",
    "import random\n",
    "\n",
    "import seaborn as sns\n",
    "import matplotlib.pyplot as plt\n",
    "import warnings\n",
    "\n",
    "warnings.filterwarnings('ignore')"
   ]
  },
  {
   "cell_type": "markdown",
   "metadata": {},
   "source": [
    "These are the libraries required for our code, including data processing, machine learning, NLP, and visualization libraries."
   ]
  },
  {
   "cell_type": "code",
   "execution_count": 3,
   "metadata": {
    "scrolled": true
   },
   "outputs": [
    {
     "name": "stdout",
     "output_type": "stream",
     "text": [
      "<class 'pandas.core.frame.DataFrame'>\n",
      "RangeIndex: 457440 entries, 0 to 457439\n",
      "Data columns (total 27 columns):\n",
      " #   Column                          Non-Null Count   Dtype  \n",
      "---  ------                          --------------   -----  \n",
      " 0   Unnamed: 0                      457440 non-null  int64  \n",
      " 1   query_summary                   0 non-null       float64\n",
      " 2   cursors                         0 non-null       float64\n",
      " 3   recommendationid                228720 non-null  float64\n",
      " 4   language                        228720 non-null  object \n",
      " 5   review                          228017 non-null  object \n",
      " 6   timestamp_created               228720 non-null  float64\n",
      " 7   timestamp_updated               228720 non-null  float64\n",
      " 8   voted_up                        228720 non-null  object \n",
      " 9   votes_up                        228720 non-null  float64\n",
      " 10  votes_funny                     228720 non-null  float64\n",
      " 11  weighted_vote_score             228720 non-null  float64\n",
      " 12  comment_count                   228720 non-null  float64\n",
      " 13  steam_purchase                  228720 non-null  object \n",
      " 14  received_for_free               228720 non-null  object \n",
      " 15  written_during_early_access     228720 non-null  object \n",
      " 16  hidden_in_steam_china           228720 non-null  object \n",
      " 17  steam_china_location            0 non-null       float64\n",
      " 18  author.steamid                  228720 non-null  float64\n",
      " 19  author.num_games_owned          228720 non-null  float64\n",
      " 20  author.num_reviews              228720 non-null  float64\n",
      " 21  author.playtime_forever         228720 non-null  float64\n",
      " 22  author.playtime_last_two_weeks  228720 non-null  float64\n",
      " 23  author.playtime_at_review       228720 non-null  float64\n",
      " 24  author.last_played              228720 non-null  float64\n",
      " 25  timestamp_dev_responded         19 non-null      float64\n",
      " 26  developer_response              19 non-null      object \n",
      "dtypes: float64(18), int64(1), object(8)\n",
      "memory usage: 94.2+ MB\n"
     ]
    }
   ],
   "source": [
    "#Import the Data\n",
    "df = pd.read_csv('D:/Git/phase_4/Hades_reviews.csv')\n",
    "\n",
    "#Check the Data\n",
    "df.info()"
   ]
  },
  {
   "cell_type": "markdown",
   "metadata": {},
   "source": [
    "## Data Cleaning"
   ]
  },
  {
   "cell_type": "code",
   "execution_count": 4,
   "metadata": {},
   "outputs": [],
   "source": [
    "#Drop Nulls\n",
    "df = df.dropna(subset=['review'])\n",
    "\n",
    "#Keep only English reviews\n",
    "df = df[df['language'] == 'english']\n",
    "\n",
    "# Drop Unnecessary Columns\n",
    "df = df.drop(df.columns[[0, 1, 2, 3, 4, 6, 7, 16, 17, 18]], axis=1)\n",
    "\n",
    "# Create a mask where each review has more than 5 words and at least one alphabetic character\n",
    "mask = df['review'].apply(lambda x: len(re.findall(r'\\b\\w+\\b', str(x))) > 5 and bool(re.search('[a-zA-Z]', str(x))))\n",
    "\n",
    "# Apply the mask to the DataFrame to filter out review\n",
    "df = df[mask]"
   ]
  },
  {
   "cell_type": "markdown",
   "metadata": {},
   "source": [
    "These lines drop the rows with missing values in the 'review' column, filter the DataFrame to keep only English reviews, and drop unnecessary columns from the DataFrame."
   ]
  },
  {
   "cell_type": "code",
   "execution_count": 5,
   "metadata": {},
   "outputs": [
    {
     "name": "stdout",
     "output_type": "stream",
     "text": [
      "<class 'pandas.core.frame.DataFrame'>\n",
      "Int64Index: 76744 entries, 228720 to 457437\n",
      "Data columns (total 17 columns):\n",
      " #   Column                          Non-Null Count  Dtype  \n",
      "---  ------                          --------------  -----  \n",
      " 0   review                          76744 non-null  object \n",
      " 1   voted_up                        76744 non-null  object \n",
      " 2   votes_up                        76744 non-null  float64\n",
      " 3   votes_funny                     76744 non-null  float64\n",
      " 4   weighted_vote_score             76744 non-null  float64\n",
      " 5   comment_count                   76744 non-null  float64\n",
      " 6   steam_purchase                  76744 non-null  object \n",
      " 7   received_for_free               76744 non-null  object \n",
      " 8   written_during_early_access     76744 non-null  object \n",
      " 9   author.num_games_owned          76744 non-null  float64\n",
      " 10  author.num_reviews              76744 non-null  float64\n",
      " 11  author.playtime_forever         76744 non-null  float64\n",
      " 12  author.playtime_last_two_weeks  76744 non-null  float64\n",
      " 13  author.playtime_at_review       76744 non-null  float64\n",
      " 14  author.last_played              76744 non-null  float64\n",
      " 15  timestamp_dev_responded         12 non-null     float64\n",
      " 16  developer_response              12 non-null     object \n",
      "dtypes: float64(11), object(6)\n",
      "memory usage: 10.5+ MB\n"
     ]
    }
   ],
   "source": [
    "df.info()"
   ]
  },
  {
   "cell_type": "code",
   "execution_count": 6,
   "metadata": {},
   "outputs": [
    {
     "data": {
      "text/html": [
       "<div>\n",
       "<style scoped>\n",
       "    .dataframe tbody tr th:only-of-type {\n",
       "        vertical-align: middle;\n",
       "    }\n",
       "\n",
       "    .dataframe tbody tr th {\n",
       "        vertical-align: top;\n",
       "    }\n",
       "\n",
       "    .dataframe thead th {\n",
       "        text-align: right;\n",
       "    }\n",
       "</style>\n",
       "<table border=\"1\" class=\"dataframe\">\n",
       "  <thead>\n",
       "    <tr style=\"text-align: right;\">\n",
       "      <th></th>\n",
       "      <th>review</th>\n",
       "      <th>voted_up</th>\n",
       "      <th>votes_up</th>\n",
       "      <th>votes_funny</th>\n",
       "      <th>weighted_vote_score</th>\n",
       "      <th>comment_count</th>\n",
       "      <th>steam_purchase</th>\n",
       "      <th>received_for_free</th>\n",
       "      <th>written_during_early_access</th>\n",
       "      <th>author.num_games_owned</th>\n",
       "      <th>author.num_reviews</th>\n",
       "      <th>author.playtime_forever</th>\n",
       "      <th>author.playtime_last_two_weeks</th>\n",
       "      <th>author.playtime_at_review</th>\n",
       "      <th>author.last_played</th>\n",
       "      <th>timestamp_dev_responded</th>\n",
       "      <th>developer_response</th>\n",
       "    </tr>\n",
       "  </thead>\n",
       "  <tbody>\n",
       "    <tr>\n",
       "      <th>228720</th>\n",
       "      <td>Beautiful art and music, fun gameplay and grea...</td>\n",
       "      <td>True</td>\n",
       "      <td>0.0</td>\n",
       "      <td>0.0</td>\n",
       "      <td>0.0</td>\n",
       "      <td>0.0</td>\n",
       "      <td>True</td>\n",
       "      <td>False</td>\n",
       "      <td>False</td>\n",
       "      <td>0.0</td>\n",
       "      <td>1.0</td>\n",
       "      <td>18400.0</td>\n",
       "      <td>0.0</td>\n",
       "      <td>18400.0</td>\n",
       "      <td>1.624387e+09</td>\n",
       "      <td>NaN</td>\n",
       "      <td>NaN</td>\n",
       "    </tr>\n",
       "    <tr>\n",
       "      <th>228721</th>\n",
       "      <td>Hades has a lot going for it the soundtrack, v...</td>\n",
       "      <td>True</td>\n",
       "      <td>0.0</td>\n",
       "      <td>0.0</td>\n",
       "      <td>0.0</td>\n",
       "      <td>0.0</td>\n",
       "      <td>True</td>\n",
       "      <td>False</td>\n",
       "      <td>False</td>\n",
       "      <td>189.0</td>\n",
       "      <td>44.0</td>\n",
       "      <td>1011.0</td>\n",
       "      <td>1011.0</td>\n",
       "      <td>1011.0</td>\n",
       "      <td>1.686744e+09</td>\n",
       "      <td>NaN</td>\n",
       "      <td>NaN</td>\n",
       "    </tr>\n",
       "    <tr>\n",
       "      <th>228723</th>\n",
       "      <td>perfect loop, beautiful art, fun weapons</td>\n",
       "      <td>True</td>\n",
       "      <td>0.0</td>\n",
       "      <td>0.0</td>\n",
       "      <td>0.0</td>\n",
       "      <td>0.0</td>\n",
       "      <td>True</td>\n",
       "      <td>False</td>\n",
       "      <td>False</td>\n",
       "      <td>0.0</td>\n",
       "      <td>14.0</td>\n",
       "      <td>5790.0</td>\n",
       "      <td>5790.0</td>\n",
       "      <td>5790.0</td>\n",
       "      <td>1.686743e+09</td>\n",
       "      <td>NaN</td>\n",
       "      <td>NaN</td>\n",
       "    </tr>\n",
       "    <tr>\n",
       "      <th>228724</th>\n",
       "      <td>Combat : 10/10\\nReplayabilty : 10/10\\nStory + ...</td>\n",
       "      <td>True</td>\n",
       "      <td>0.0</td>\n",
       "      <td>0.0</td>\n",
       "      <td>0.0</td>\n",
       "      <td>0.0</td>\n",
       "      <td>True</td>\n",
       "      <td>False</td>\n",
       "      <td>False</td>\n",
       "      <td>0.0</td>\n",
       "      <td>4.0</td>\n",
       "      <td>5399.0</td>\n",
       "      <td>0.0</td>\n",
       "      <td>5399.0</td>\n",
       "      <td>1.670424e+09</td>\n",
       "      <td>NaN</td>\n",
       "      <td>NaN</td>\n",
       "    </tr>\n",
       "    <tr>\n",
       "      <th>228726</th>\n",
       "      <td>fun but u die alot LOL</td>\n",
       "      <td>True</td>\n",
       "      <td>0.0</td>\n",
       "      <td>0.0</td>\n",
       "      <td>0.0</td>\n",
       "      <td>0.0</td>\n",
       "      <td>False</td>\n",
       "      <td>False</td>\n",
       "      <td>False</td>\n",
       "      <td>0.0</td>\n",
       "      <td>2.0</td>\n",
       "      <td>330.0</td>\n",
       "      <td>330.0</td>\n",
       "      <td>270.0</td>\n",
       "      <td>1.686744e+09</td>\n",
       "      <td>NaN</td>\n",
       "      <td>NaN</td>\n",
       "    </tr>\n",
       "  </tbody>\n",
       "</table>\n",
       "</div>"
      ],
      "text/plain": [
       "                                                   review voted_up  votes_up  \\\n",
       "228720  Beautiful art and music, fun gameplay and grea...     True       0.0   \n",
       "228721  Hades has a lot going for it the soundtrack, v...     True       0.0   \n",
       "228723           perfect loop, beautiful art, fun weapons     True       0.0   \n",
       "228724  Combat : 10/10\\nReplayabilty : 10/10\\nStory + ...     True       0.0   \n",
       "228726                             fun but u die alot LOL     True       0.0   \n",
       "\n",
       "        votes_funny  weighted_vote_score  comment_count steam_purchase  \\\n",
       "228720          0.0                  0.0            0.0           True   \n",
       "228721          0.0                  0.0            0.0           True   \n",
       "228723          0.0                  0.0            0.0           True   \n",
       "228724          0.0                  0.0            0.0           True   \n",
       "228726          0.0                  0.0            0.0          False   \n",
       "\n",
       "       received_for_free written_during_early_access  author.num_games_owned  \\\n",
       "228720             False                       False                     0.0   \n",
       "228721             False                       False                   189.0   \n",
       "228723             False                       False                     0.0   \n",
       "228724             False                       False                     0.0   \n",
       "228726             False                       False                     0.0   \n",
       "\n",
       "        author.num_reviews  author.playtime_forever  \\\n",
       "228720                 1.0                  18400.0   \n",
       "228721                44.0                   1011.0   \n",
       "228723                14.0                   5790.0   \n",
       "228724                 4.0                   5399.0   \n",
       "228726                 2.0                    330.0   \n",
       "\n",
       "        author.playtime_last_two_weeks  author.playtime_at_review  \\\n",
       "228720                             0.0                    18400.0   \n",
       "228721                          1011.0                     1011.0   \n",
       "228723                          5790.0                     5790.0   \n",
       "228724                             0.0                     5399.0   \n",
       "228726                           330.0                      270.0   \n",
       "\n",
       "        author.last_played  timestamp_dev_responded developer_response  \n",
       "228720        1.624387e+09                      NaN                NaN  \n",
       "228721        1.686744e+09                      NaN                NaN  \n",
       "228723        1.686743e+09                      NaN                NaN  \n",
       "228724        1.670424e+09                      NaN                NaN  \n",
       "228726        1.686744e+09                      NaN                NaN  "
      ]
     },
     "execution_count": 6,
     "metadata": {},
     "output_type": "execute_result"
    }
   ],
   "source": [
    "df.head()"
   ]
  },
  {
   "cell_type": "markdown",
   "metadata": {},
   "source": [
    "### Step 1: Exploratory Data Analysis\n",
    "These lines perform some EDA on the DataFrame, such as counting the number of positive and negative reviews, describing the playtime of the authors, calculating the length of each review, and providing summary statistics for the review length."
   ]
  },
  {
   "cell_type": "code",
   "execution_count": 7,
   "metadata": {},
   "outputs": [
    {
     "data": {
      "text/plain": [
       "True     75508\n",
       "False     1236\n",
       "Name: voted_up, dtype: int64"
      ]
     },
     "execution_count": 7,
     "metadata": {},
     "output_type": "execute_result"
    }
   ],
   "source": [
    "df['voted_up'].value_counts()"
   ]
  },
  {
   "cell_type": "markdown",
   "metadata": {},
   "source": [
    "With all the \"positive\" reviews listed here ('voted_up') our data set will be extremely imbalanced if we focus on targeting whether a review was positive or note. So let's consider some other features."
   ]
  },
  {
   "cell_type": "code",
   "execution_count": 8,
   "metadata": {},
   "outputs": [
    {
     "data": {
      "text/plain": [
       "count     76744.000000\n",
       "mean       5169.432190\n",
       "std        6119.080535\n",
       "min           5.000000\n",
       "25%        1859.000000\n",
       "50%        3914.000000\n",
       "75%        6598.000000\n",
       "max      272341.000000\n",
       "Name: author.playtime_forever, dtype: float64"
      ]
     },
     "execution_count": 8,
     "metadata": {},
     "output_type": "execute_result"
    }
   ],
   "source": [
    "df['author.playtime_forever'].describe()"
   ]
  },
  {
   "cell_type": "code",
   "execution_count": 9,
   "metadata": {},
   "outputs": [
    {
     "data": {
      "text/plain": [
       "count    76744.000000\n",
       "mean        48.357474\n",
       "std         85.016701\n",
       "min          1.000000\n",
       "25%         11.000000\n",
       "50%         22.000000\n",
       "75%         50.000000\n",
       "max       1600.000000\n",
       "Name: review_length, dtype: float64"
      ]
     },
     "execution_count": 9,
     "metadata": {},
     "output_type": "execute_result"
    }
   ],
   "source": [
    "# Calculate the length of each review (in words)\n",
    "df['review_length'] = df['review'].apply(lambda x: len(x.split()))\n",
    "\n",
    "# Calculate the average length of reviews\n",
    "average_length = df['review_length'].mean()\n",
    "\n",
    "df['review_length'].describe()"
   ]
  },
  {
   "cell_type": "markdown",
   "metadata": {},
   "source": [
    "It looks like there is a nice spread in terms of play time and the length of reviews. Those might help us create a model with something to learn from."
   ]
  },
  {
   "cell_type": "markdown",
   "metadata": {},
   "source": [
    "#### Text preprocessing:"
   ]
  },
  {
   "cell_type": "code",
   "execution_count": 10,
   "metadata": {},
   "outputs": [],
   "source": [
    "# Get list of stopwords\n",
    "stop_words = set(stopwords.words('english'))\n",
    "\n",
    "# Initialize a lemmatizer\n",
    "lemmatizer = WordNetLemmatizer()\n",
    "\n",
    "#Setup lemmatizer\n",
    "def lemmatize_text(text):\n",
    "    words = word_tokenize(text)\n",
    "    filtered_words = [lemmatizer.lemmatize(w) for w in words if w.lower() not in stop_words]\n",
    "    return ' '.join(filtered_words)\n",
    "\n",
    "# Lemmatize the reviews\n",
    "df['review'] = df['review'].apply(lemmatize_text)"
   ]
  },
  {
   "cell_type": "markdown",
   "metadata": {},
   "source": [
    "These lines define a function lemmatize_text to lemmatize the review texts by removing stopwords and performing lemmatization. The function is then applied to the 'review' column using df['review'].apply(). Next, we want to check the variation of review length to see if we might have an unbalanced dataset."
   ]
  },
  {
   "cell_type": "code",
   "execution_count": 11,
   "metadata": {},
   "outputs": [
    {
     "data": {
      "text/plain": [
       "3    21715\n",
       "1    21613\n",
       "2    21249\n",
       "0    12167\n",
       "Name: review_length_category, dtype: int64"
      ]
     },
     "execution_count": 11,
     "metadata": {},
     "output_type": "execute_result"
    }
   ],
   "source": [
    "# Encode review length into categories based on specific ranges or thresholds\n",
    "df['review_length_category'] = pd.cut(df['review_length'], bins=[0, 8, 18, 44, np.inf], labels=[0, 1, 2, 3])\n",
    "\n",
    "#Check value counts\n",
    "df['review_length_category'].value_counts()"
   ]
  },
  {
   "cell_type": "markdown",
   "metadata": {},
   "source": [
    "This looks like a an even spread! This could work as a variable."
   ]
  },
  {
   "cell_type": "code",
   "execution_count": 57,
   "metadata": {},
   "outputs": [
    {
     "name": "stdout",
     "output_type": "stream",
     "text": [
      "0    25595\n",
      "1    25577\n",
      "2    25572\n",
      "Name: playtime_category, dtype: int64\n"
     ]
    }
   ],
   "source": [
    "# Calculate quantiles for playtime\n",
    "df['playtime_category'] = pd.qcut(df['author.playtime_forever'], 3, labels=False)\n",
    "\n",
    "# Check value counts\n",
    "print(df['playtime_category'].value_counts())"
   ]
  },
  {
   "cell_type": "markdown",
   "metadata": {},
   "source": [
    "These lines encode the review length into categories based on specific ranges or thresholds and create a column indicating whether the playtime is low (1), average (2) or high (3). We will use this as our y variable."
   ]
  },
  {
   "cell_type": "markdown",
   "metadata": {},
   "source": [
    "### Preprocessing pipeline and model training"
   ]
  },
  {
   "cell_type": "code",
   "execution_count": 58,
   "metadata": {},
   "outputs": [],
   "source": [
    "# Define preprocessing for text column\n",
    "text_features = 'review'\n",
    "text_transformer = Pipeline(steps=[\n",
    "    ('tfidf', TfidfVectorizer(max_features=2000))\n",
    "])\n",
    "\n",
    "# Combine preprocessing steps\n",
    "preprocessor = ColumnTransformer(\n",
    "    transformers=[\n",
    "        ('text', text_transformer, text_features)\n",
    "    ])\n",
    "\n",
    "# Sample 75% of data\n",
    "df_sampled = df.sample(frac=0.75, random_state=42)"
   ]
  },
  {
   "cell_type": "markdown",
   "metadata": {},
   "source": [
    "These lines define a preprocessing pipeline using ColumnTransformer to apply TF-IDF vectorization to the 'review' column and keep the 'above_average_playtime' column as numeric features. It then builds a pipeline with a RandomForestClassifier as the classifier. The data is split into training and testing sets using train_test_split, and the model is trained and evaluated using the classification report.\n",
    "\n",
    "Now let's do a quick test of our data to see if we were right about the positive review prediction leading to overfitting due to an imbalanced data set. We will start with a simple *logistic regression model*:"
   ]
  },
  {
   "cell_type": "code",
   "execution_count": 30,
   "metadata": {},
   "outputs": [],
   "source": [
    "# Redefine X and y for Logistic Regression model\n",
    "X = df[['review']]  # Double brackets to create a DataFrame\n",
    "y = df['voted_up'].map({True: 1, False: 0})\n",
    "\n",
    "# Split the data into training and testing sets\n",
    "X_train, X_test, y_train, y_test = train_test_split(X, y, test_size=0.2, random_state=42)"
   ]
  },
  {
   "cell_type": "code",
   "execution_count": 31,
   "metadata": {},
   "outputs": [
    {
     "name": "stdout",
     "output_type": "stream",
     "text": [
      "              precision    recall  f1-score   support\n",
      "\n",
      "           0       0.87      0.11      0.19       246\n",
      "           1       0.99      1.00      0.99     15103\n",
      "\n",
      "    accuracy                           0.99     15349\n",
      "   macro avg       0.93      0.55      0.59     15349\n",
      "weighted avg       0.98      0.99      0.98     15349\n",
      "\n"
     ]
    }
   ],
   "source": [
    "# Set up the pipeline for the Logistic Regression model\n",
    "logreg_pipeline = Pipeline(steps=[\n",
    "    ('preprocessor', preprocessor),\n",
    "    ('classifier', LogisticRegression())\n",
    "])\n",
    "\n",
    "# Fit the model and make predictions\n",
    "logreg_pipeline.fit(X_train, y_train)\n",
    "y_pred = logreg_pipeline.predict(X_test)\n",
    "\n",
    "# Print classification report\n",
    "print(classification_report(y_test, y_pred))"
   ]
  },
  {
   "cell_type": "markdown",
   "metadata": {},
   "source": [
    "As predicted, our model is overfitting. So let's change tactics for our more complex models. Rather than trying to predict the positivity of a review based on its content, let's see if we can predict the length of a review by whether or not a player plays an above or below average amount. Because our data set is so large, we will only use a subset of the total data."
   ]
  },
  {
   "cell_type": "code",
   "execution_count": 59,
   "metadata": {},
   "outputs": [],
   "source": [
    "# Redefine X and y based on df_sampled\n",
    "X = df_sampled[['review']]  # Double brackets to create a DataFrame\n",
    "y = df_sampled['playtime_category']\n",
    "\n",
    "# Then split data\n",
    "X_train, X_test, y_train, y_test = train_test_split(X, y, test_size=0.2, random_state=42)"
   ]
  },
  {
   "cell_type": "code",
   "execution_count": 60,
   "metadata": {},
   "outputs": [
    {
     "name": "stdout",
     "output_type": "stream",
     "text": [
      "<class 'pandas.core.frame.DataFrame'>\n",
      "Int64Index: 57558 entries, 337302 to 305453\n",
      "Data columns (total 21 columns):\n",
      " #   Column                          Non-Null Count  Dtype   \n",
      "---  ------                          --------------  -----   \n",
      " 0   review                          57558 non-null  object  \n",
      " 1   voted_up                        57558 non-null  object  \n",
      " 2   votes_up                        57558 non-null  float64 \n",
      " 3   votes_funny                     57558 non-null  float64 \n",
      " 4   weighted_vote_score             57558 non-null  float64 \n",
      " 5   comment_count                   57558 non-null  float64 \n",
      " 6   steam_purchase                  57558 non-null  object  \n",
      " 7   received_for_free               57558 non-null  object  \n",
      " 8   written_during_early_access     57558 non-null  object  \n",
      " 9   author.num_games_owned          57558 non-null  float64 \n",
      " 10  author.num_reviews              57558 non-null  float64 \n",
      " 11  author.playtime_forever         57558 non-null  float64 \n",
      " 12  author.playtime_last_two_weeks  57558 non-null  float64 \n",
      " 13  author.playtime_at_review       57558 non-null  float64 \n",
      " 14  author.last_played              57558 non-null  float64 \n",
      " 15  timestamp_dev_responded         10 non-null     float64 \n",
      " 16  developer_response              10 non-null     object  \n",
      " 17  review_length                   57558 non-null  int64   \n",
      " 18  review_length_category          57558 non-null  category\n",
      " 19  above_average_playtime          57558 non-null  int32   \n",
      " 20  playtime_category               57558 non-null  int64   \n",
      "dtypes: category(1), float64(11), int32(1), int64(2), object(6)\n",
      "memory usage: 9.1+ MB\n"
     ]
    }
   ],
   "source": [
    "df_sampled.info()"
   ]
  },
  {
   "cell_type": "code",
   "execution_count": 62,
   "metadata": {},
   "outputs": [
    {
     "name": "stdout",
     "output_type": "stream",
     "text": [
      "Classification Report for Random Forest Classifier (Training Data):\n",
      "              precision    recall  f1-score   support\n",
      "\n",
      "           0       0.98      0.98      0.98     15300\n",
      "           1       0.98      0.98      0.98     15332\n",
      "           2       0.99      0.98      0.99     15414\n",
      "\n",
      "    accuracy                           0.98     46046\n",
      "   macro avg       0.98      0.98      0.98     46046\n",
      "weighted avg       0.98      0.98      0.98     46046\n",
      "\n",
      "\n",
      "Classification Report for Random Forest Classifier (Test Data):\n",
      "              precision    recall  f1-score   support\n",
      "\n",
      "           0       0.42      0.46      0.44      3853\n",
      "           1       0.35      0.28      0.31      3827\n",
      "           2       0.40      0.45      0.43      3832\n",
      "\n",
      "    accuracy                           0.40     11512\n",
      "   macro avg       0.39      0.40      0.39     11512\n",
      "weighted avg       0.39      0.40      0.39     11512\n",
      "\n"
     ]
    }
   ],
   "source": [
    "# Define pipeline for RandomForest\n",
    "rf_clf = Pipeline(steps=[\n",
    "    ('preprocessor', preprocessor),\n",
    "    ('classifier', RandomForestClassifier())\n",
    "])\n",
    "\n",
    "# Fit the RandomForest model and make predictions\n",
    "rf_clf.fit(X_train, y_train)\n",
    "rf_y_pred_train = rf_clf.predict(X_train)\n",
    "rf_y_pred_test = rf_clf.predict(X_test)\n",
    "\n",
    "print(\"Classification Report for Random Forest Classifier (Training Data):\")\n",
    "print(classification_report(y_train, rf_y_pred_train))\n",
    "print(\"\\nClassification Report for Random Forest Classifier (Test Data):\")\n",
    "print(classification_report(y_test, rf_y_pred_test))"
   ]
  },
  {
   "cell_type": "code",
   "execution_count": 61,
   "metadata": {},
   "outputs": [
    {
     "name": "stdout",
     "output_type": "stream",
     "text": [
      "\n",
      "Classification Report for XGBoost (Training Data):\n",
      "              precision    recall  f1-score   support\n",
      "\n",
      "           0       0.56      0.75      0.64     15300\n",
      "           1       0.65      0.52      0.58     15332\n",
      "           2       0.68      0.58      0.62     15414\n",
      "\n",
      "    accuracy                           0.62     46046\n",
      "   macro avg       0.63      0.62      0.61     46046\n",
      "weighted avg       0.63      0.62      0.61     46046\n",
      "\n",
      "\n",
      "Classification Report for XGBoost (Test Data):\n",
      "              precision    recall  f1-score   support\n",
      "\n",
      "           0       0.42      0.56      0.48      3853\n",
      "           1       0.36      0.28      0.31      3827\n",
      "           2       0.43      0.38      0.41      3832\n",
      "\n",
      "    accuracy                           0.41     11512\n",
      "   macro avg       0.40      0.41      0.40     11512\n",
      "weighted avg       0.40      0.41      0.40     11512\n",
      "\n"
     ]
    }
   ],
   "source": [
    "# Define pipeline for XGBoost\n",
    "xgb_clf = Pipeline(steps=[\n",
    "    ('preprocessor', preprocessor),\n",
    "    ('classifier', XGBClassifier(use_label_encoder=False, \n",
    "                                 eval_metric='mlogloss', \n",
    "                                 objective='multi:softmax', \n",
    "                                 num_class=3)) \n",
    "])\n",
    "\n",
    "# Fit the XGBoost model and make predictions\n",
    "xgb_clf.fit(X_train, y_train)\n",
    "xgb_y_pred_train = xgb_clf.predict(X_train)\n",
    "xgb_y_pred_test = xgb_clf.predict(X_test)\n",
    "\n",
    "# Classification report for XGBoost\n",
    "print(\"\\nClassification Report for XGBoost (Training Data):\")\n",
    "print(classification_report(y_train, xgb_y_pred_train))\n",
    "print(\"\\nClassification Report for XGBoost (Test Data):\")\n",
    "print(classification_report(y_test, xgb_y_pred_test))"
   ]
  },
  {
   "cell_type": "markdown",
   "metadata": {},
   "source": [
    "It looks like the RFC model is having some overfitting issues, and our XGB is performing not muich better than a coinflip on the training and even worse on the teset. We'd like them to do better, so let's tune the hyperparameters of our XGB model (which performed slightly better) using GridSearchCV. Again, we will only use a small subset of the data to speed up processing time."
   ]
  },
  {
   "cell_type": "code",
   "execution_count": 99,
   "metadata": {},
   "outputs": [
    {
     "name": "stdout",
     "output_type": "stream",
     "text": [
      "Fitting 5 folds for each of 81 candidates, totalling 405 fits\n",
      "Best parameters: {'classifier__learning_rate': 0.1, 'classifier__max_depth': 2, 'classifier__n_estimators': 200, 'preprocessor__text__tfidf__max_features': 2000}\n",
      "Classification Report (Training Data):\n",
      "               precision    recall  f1-score   support\n",
      "\n",
      "           0       0.42      0.60      0.50     15300\n",
      "           1       0.40      0.30      0.35     15332\n",
      "           2       0.47      0.39      0.43     15414\n",
      "\n",
      "    accuracy                           0.43     46046\n",
      "   macro avg       0.43      0.43      0.42     46046\n",
      "weighted avg       0.43      0.43      0.42     46046\n",
      "\n"
     ]
    }
   ],
   "source": [
    "# Sample a subset of data for speed\n",
    "X_train_sampled = X_train.sample(frac=0.25, random_state=42)\n",
    "y_train_sampled = y_train.sample(frac=0.25, random_state=42)\n",
    "\n",
    "# Set up the pipeline for the XGB model\n",
    "xgb_pipeline = Pipeline(steps=[\n",
    "    ('preprocessor', preprocessor),\n",
    "    ('classifier', XGBClassifier(use_label_encoder=False, eval_metric='logloss'))\n",
    "])\n",
    "\n",
    "param_grid = {\n",
    "    'preprocessor__text__tfidf__max_features': [500, 1000, 2000],\n",
    "    'classifier__n_estimators': [50, 100, 200],\n",
    "    'classifier__max_depth': [2, 5, 10],\n",
    "    'classifier__learning_rate': [0.01, 0.1, 0.2],\n",
    "}\n",
    "\n",
    "# Initialize GridSearchCV with the XGBoost classifier and parameter grid\n",
    "grid_search = GridSearchCV(xgb_pipeline, param_grid, cv=5, verbose=3, n_jobs=-1)\n",
    "\n",
    "# Fit the GridSearchCV model\n",
    "grid_search.fit(X_train_sampled, y_train_sampled)\n",
    "\n",
    "# Get the best parameters found by GridSearchCV\n",
    "best_params = grid_search.best_params_\n",
    "print(\"Best parameters:\", best_params)\n",
    "\n",
    "# Get the best model found by GridSearchCV\n",
    "best_model = grid_search.best_estimator_\n",
    "\n",
    "# Predict the training set results using the best model\n",
    "y_pred_train = best_model.predict(X_train)\n",
    "\n",
    "# Generate classification report for the training data\n",
    "report_train = classification_report(y_train, y_pred_train)\n",
    "\n",
    "# Print the classification report\n",
    "print(\"Classification Report (Training Data):\\n\", report_train)"
   ]
  },
  {
   "cell_type": "markdown",
   "metadata": {},
   "source": [
    "Oh no! It looks like our only increased by a percentage or two, but we'll take it! However, it's still not better than a coin toss at this point. Let's visualzie the feature importances to see if there is anything to glean:"
   ]
  },
  {
   "cell_type": "code",
   "execution_count": 108,
   "metadata": {},
   "outputs": [
    {
     "data": {
      "image/png": "[encoded data removed]",
      "text/plain": [
       "<Figure size 1000x600 with 1 Axes>"
      ]
     },
     "metadata": {},
     "output_type": "display_data"
    }
   ],
   "source": [
    "import matplotlib.pyplot as plt\n",
    "import numpy as np\n",
    "\n",
    "# Access the feature importances from the XGBoost classifier\n",
    "feature_importances = xgb_clf.named_steps['classifier'].feature_importances_\n",
    "\n",
    "# Get the TfidfVectorizer instance\n",
    "tfidf_vectorizer = xgb_clf.named_steps['preprocessor'].transformers_[0][1]['tfidf']\n",
    "\n",
    "# Get the feature names from the TfidfVectorizer's vocabulary\n",
    "feature_names = np.array(list(tfidf_vectorizer.vocabulary_.keys()))\n",
    "\n",
    "# Create a sorted list of feature importances and feature names\n",
    "sorted_indices = np.argsort(feature_importances)[::-1]\n",
    "sorted_indices = sorted_indices[:10]  # Consider top 10 features\n",
    "sorted_feature_importances = feature_importances[sorted_indices]\n",
    "sorted_feature_names = feature_names[sorted_indices]\n",
    "\n",
    "# Plot the feature importances\n",
    "plt.figure(figsize=(10, 6))\n",
    "plt.bar(range(len(sorted_feature_importances)), sorted_feature_importances, tick_label=sorted_feature_names)\n",
    "plt.xticks(rotation=90)\n",
    "plt.xlabel('Feature')\n",
    "plt.ylabel('Importance')\n",
    "plt.title('Top 10 Feature Importances')\n",
    "plt.tight_layout()\n",
    "plt.show()"
   ]
  },
  {
   "cell_type": "markdown",
   "metadata": {},
   "source": [
    "I guess people are using 'fucking' as a pretty high positive explainer. Not sure if many of the other words end up being all that helpful. Let's see if providing sentiment data might help."
   ]
  },
  {
   "cell_type": "markdown",
   "metadata": {},
   "source": [
    "## Sentiment Analysis"
   ]
  },
  {
   "cell_type": "markdown",
   "metadata": {},
   "source": [
    "We are going to use TextBlob's NaiveBayesAnalyzer for our sentiment analysis. The NBA was trained on movie reviews, which is the closes we get to game reviews. To help it out, we are going to provide our model with 4 themes to look for in the data. We want to help our client figure out what it was exactly that people enjoyed about their games. Here are the themes:"
   ]
  },
  {
   "cell_type": "code",
   "execution_count": 73,
   "metadata": {},
   "outputs": [],
   "source": [
    "# Define the themes and their associated words\n",
    "themes = {\n",
    "    'music': ['sound', 'music', 'audio', 'instrument', 'soundtrack', 'voice acting', 'song', 'effect', 'atmosphere', 'orchestra'],\n",
    "    'story': ['story', 'plot', 'narrative', 'character', 'mission', 'quest', 'writing', 'dialogue', 'relationships', 'family', 'gods'],\n",
    "    'game play': ['gameplay', 'rogue-like', 'mechanics', 'controls', 'action', 'fight', 'attack', 'battle', 'weapon', 'moves', 'power', 'combat', 'upgrade'],\n",
    "    'visuals': ['visuals', 'graphics', 'art', 'images', 'color', 'artwork', 'animation', '2D', '3D', 'lighting']\n",
    "}"
   ]
  },
  {
   "cell_type": "markdown",
   "metadata": {},
   "source": [
    "Now we want to initiate our analyzer:"
   ]
  },
  {
   "cell_type": "code",
   "execution_count": 110,
   "metadata": {},
   "outputs": [
    {
     "name": "stdout",
     "output_type": "stream",
     "text": [
      "                                                   review  general_sentiment\n",
      "337302     game literal definition `` oh 's HOT ! '' love           0.137500\n",
      "405174  brings many excellent element together , defin...           0.600000\n",
      "281973  gon na say hades n't said ? 's good game folk ...           0.041667\n",
      "303805  someone could barely go enjoy `` Dead Cells ''...           0.095000\n",
      "309564  Refreshing find gem ! 's like warm embrace twi...           0.687500\n"
     ]
    }
   ],
   "source": [
    "# Initiate TextBlob's sentiment analyzer\n",
    "tb = NaiveBayesAnalyzer()\n",
    "\n",
    "# Define a function to calculate the sentiment scores for each sentence\n",
    "def get_sentiment(review):\n",
    "    sentiments = []\n",
    "    for sentence in review:\n",
    "        blob = TextBlob(sentence, analyzer=tb)\n",
    "        sentiment = blob.sentiment.p_pos\n",
    "        sentiments.append(sentiment)\n",
    "    return sentiments\n",
    "\n",
    "# Define a function to calculate the general sentiment score of a review\n",
    "def get_general_sentiment(review):\n",
    "    blob = TextBlob(review)\n",
    "    sentiment = blob.sentiment.polarity\n",
    "    return sentiment\n",
    "\n",
    "# Apply general sentiment analysis to each review in the selected data and create a general sentiment score column\n",
    "df_sampled['general_sentiment'] = df_sampled['review'].apply(get_general_sentiment)\n",
    "\n",
    "# Display the first five rows of the 'review' and 'general_sentiment' columns\n",
    "print(df_sampled[['review', 'general_sentiment']].head(5))"
   ]
  },
  {
   "cell_type": "markdown",
   "metadata": {},
   "source": [
    "We want to get sentiments on the general review level and on the sentence level. The more fine-grained the better! These functions, get_sentiment(review) and get_general_sentiment(review), takes a review as input and calculates the sentiment scores for each sentence in the review and review at large using TextBlob's sentiment analysis. It returns a list of sentiment scores."
   ]
  },
  {
   "cell_type": "code",
   "execution_count": 75,
   "metadata": {},
   "outputs": [
    {
     "data": {
      "image/png": "[encoded data removed]",
      "text/plain": [
       "<Figure size 800x600 with 1 Axes>"
      ]
     },
     "metadata": {},
     "output_type": "display_data"
    }
   ],
   "source": [
    "# Set up the figure and axes using seaborn\n",
    "plt.figure(figsize=(8, 6))\n",
    "sns.set_style(\"whitegrid\")\n",
    "\n",
    "# Plot the general sentiment scores\n",
    "sns.histplot(df_sampled['general_sentiment'], bins=20, kde=True, color='skyblue')\n",
    "\n",
    "# Set labels and title\n",
    "plt.xlabel('General Sentiment Score')\n",
    "plt.ylabel('Frequency')\n",
    "plt.title('Distribution of General Sentiment Scores')\n",
    "\n",
    "# Show the plot\n",
    "plt.show()"
   ]
  },
  {
   "cell_type": "markdown",
   "metadata": {},
   "source": [
    "This histogram gives us more data than our logistic regression. We can see that rather than a simple binary of recommended or not, players had a range of sentiment concerning what they liked about the game. Now let's try and create a little program that can pick a review at random and display its content, its polarity, and which words within the review are contributing to that polarity based on the themes we provided:"
   ]
  },
  {
   "cell_type": "code",
   "execution_count": 94,
   "metadata": {},
   "outputs": [
    {
     "name": "stdout",
     "output_type": "stream",
     "text": [
      "Review Length: 67\n",
      "\n",
      "Review: 10/10 fun gorgeous art , talented voice acting , addictive gameplay\n",
      "\n",
      "\u001b[3mTheme Words and Polarity\u001b[0m\n",
      "music: voice acting, 0.5484661905425029\n",
      "story: not referenced\n",
      "game play: not referenced\n",
      "visuals: art, 0.5943396226415094\n"
     ]
    }
   ],
   "source": [
    "# Select a random review index\n",
    "review_index = random.randint(0, len(df_sampled) - 1)\n",
    "\n",
    "# Retrieve the random review\n",
    "review = df_sampled['review'].iloc[review_index]\n",
    "\n",
    "theme_polarities = {}\n",
    "for theme, words in themes.items():\n",
    "    theme_polarities[theme] = []\n",
    "\n",
    "    for word in words:\n",
    "        keyword = f\" {word} \"  # Add spaces around the keyword to match whole words\n",
    "        if keyword in review:\n",
    "            keyword_sentiment = TextBlob(keyword, analyzer=tb).sentiment.p_pos\n",
    "            theme_polarities[theme].append((word, keyword_sentiment))\n",
    "\n",
    "# Print random review\n",
    "print(\"Review Length:\", len(review))\n",
    "print()\n",
    "\n",
    "print(\"Review:\", review)\n",
    "print()\n",
    "\n",
    "# Print theme words and polarities\n",
    "print(\"\\033[3mTheme Words and Polarity\\033[0m\")\n",
    "for theme, polarities in theme_polarities.items():\n",
    "    if polarities:  # Check if polarities is not empty\n",
    "        print(theme + \":\", \", \".join([f\"{word}, {polarity}\" for word, polarity in polarities]))\n",
    "    else:\n",
    "        print(theme + \": not referenced\")"
   ]
  },
  {
   "cell_type": "markdown",
   "metadata": {},
   "source": [
    "With this review we can see that it was generally positive, and liked the voice acting, story, gameplay, and art, with each recieving over .5 points in positive polarity. Now let's see if polarity can help our XGB model with its predictions:"
   ]
  },
  {
   "cell_type": "code",
   "execution_count": 109,
   "metadata": {},
   "outputs": [
    {
     "name": "stdout",
     "output_type": "stream",
     "text": [
      "\n",
      "Classification Report for XGBoost (Training Data):\n",
      "              precision    recall  f1-score   support\n",
      "\n",
      "           0       0.42      0.65      0.51     15300\n",
      "           1       0.44      0.26      0.33     15332\n",
      "           2       0.48      0.42      0.45     15414\n",
      "\n",
      "    accuracy                           0.44     46046\n",
      "   macro avg       0.45      0.44      0.43     46046\n",
      "weighted avg       0.45      0.44      0.43     46046\n",
      "\n",
      "\n",
      "Classification Report for XGBoost (Test Data):\n",
      "              precision    recall  f1-score   support\n",
      "\n",
      "           0       0.41      0.62      0.49      3853\n",
      "           1       0.37      0.22      0.28      3827\n",
      "           2       0.44      0.38      0.41      3832\n",
      "\n",
      "    accuracy                           0.41     11512\n",
      "   macro avg       0.40      0.41      0.39     11512\n",
      "weighted avg       0.40      0.41      0.39     11512\n",
      "\n"
     ]
    }
   ],
   "source": [
    "# Include 'general_sentiment' in feature set\n",
    "features = ['review', 'general_sentiment']\n",
    "X = df_sampled[features]\n",
    "y = df_sampled['playtime_category']\n",
    "\n",
    "# Split the data into training and testing sets\n",
    "X_train, X_test, y_train, y_test = train_test_split(X, y, test_size=0.2, random_state=42)\n",
    "\n",
    "# Define preprocessing for text column\n",
    "text_features = 'review'\n",
    "text_transformer = Pipeline(steps=[\n",
    "    ('tfidf', TfidfVectorizer(max_features=2000))\n",
    "])\n",
    "\n",
    "# Define preprocessing for sentiment column\n",
    "sentiment_features = ['general_sentiment']\n",
    "sentiment_transformer = Pipeline(steps=[\n",
    "    ('scaler', StandardScaler())\n",
    "])\n",
    "\n",
    "# Combine preprocessing steps\n",
    "preprocessor = ColumnTransformer(\n",
    "    transformers=[\n",
    "        ('text', text_transformer, text_features),\n",
    "        ('sentiment', sentiment_transformer, sentiment_features)\n",
    "    ])\n",
    "\n",
    "# Define pipeline for XGBoost\n",
    "xgb_clf = Pipeline(steps=[\n",
    "    ('preprocessor', preprocessor),\n",
    "    ('classifier', XGBClassifier(use_label_encoder=False, eval_metric='mlogloss', objective='multi:softmax', num_class=3))])\n",
    "                   \n",
    "                   \n",
    "# Update the XGBClassifier with the best parameters\n",
    "best_params = {'classifier__learning_rate': 0.1,\n",
    "               'classifier__max_depth': 2,\n",
    "               'classifier__n_estimators': 200,\n",
    "               'preprocessor__text__tfidf__max_features': 2000}\n",
    "\n",
    "xgb_clf.set_params(**best_params)\n",
    "\n",
    "# Fit the XGBoost model and make predictions\n",
    "xgb_clf.fit(X_train, y_train)\n",
    "xgb_y_pred_train = xgb_clf.predict(X_train)\n",
    "xgb_y_pred_test = xgb_clf.predict(X_test)\n",
    "\n",
    "# Classification report for XGBoost\n",
    "print(\"\\nClassification Report for XGBoost (Training Data):\")\n",
    "print(classification_report(y_train, xgb_y_pred_train))\n",
    "print(\"\\nClassification Report for XGBoost (Test Data):\")\n",
    "print(classification_report(y_test, xgb_y_pred_test))"
   ]
  },
  {
   "cell_type": "markdown",
   "metadata": {},
   "source": [
    "Unfortunately, it looks like adding sentiment score and using the best parameters from above made our model even worse!"
   ]
  },
  {
   "cell_type": "markdown",
   "metadata": {},
   "source": [
    "#### Topic Modeling using LDA"
   ]
  },
  {
   "cell_type": "markdown",
   "metadata": {},
   "source": [
    "Now for some additional verification, we are going to run an unsupervised learning model to see if it covers similar topics. Specifically we will use Gensim's Latent Dirichlet Allocation (LDA) model. We will prepare the reviews for LDA by removing the stopwords, lemmatizing them, and creating the dictionary and corpus needed for the topic modeling."
   ]
  },
  {
   "cell_type": "code",
   "execution_count": 25,
   "metadata": {},
   "outputs": [
    {
     "name": "stdout",
     "output_type": "stream",
     "text": [
      "[['acting', 1], ['art', 1], ['beautiful', 1], ['fun', 1], ['game', 1], ['gameplay', 1], ['great', 1], ['like', 1], ['music', 1], ['really', 1], ['supergiant', 1], ['voice', 1]]\n",
      "[['acting', 1], ['art', 1], ['fun', 1], ['game', 4], ['like', 2], ['really', 2], ['voice', 1], ['amazing', 1], ['animation', 1], ['annoying', 1], ['aspect', 1], ['aswell', 1], ['bastion', 1], ['beat', 1], ['becomes', 2], ['button', 2], ['combat', 1], ['death', 2], ['decide', 1], ['deep', 1], ['design', 1], ['disappointed', 1], ['escape', 1], ['everything', 1], ['extremely', 1], ['fan', 1], ['feel', 3], ['first', 1], ['get', 1], ['going', 1], ['grindy', 1], ['hades', 2], ['hour', 1], ['however', 1], ['issac', 1], ['least', 1], ['loose', 1], ['lot', 1], ['love', 1], ['made', 1], ['main', 1], ['mashy', 1], ['massive', 1], ['mid', 1], ['motivation', 1], ['overall', 1], ['polished', 1], ['press', 1], ['punishing', 2], ['quite', 1], ['recommend', 1], ['recommendation', 1], ['repetitive', 1], ['replaying', 1], ['rogue', 2], ['sale', 1], ['soundtrack', 1], ['still', 1], ['story', 2], ['tedious', 1], ['thumb', 1], ['trying', 1], ['underworld', 1], ['upgrade', 1], ['upgraded', 1], ['way', 1], ['weapon', 1], ['would', 2]]\n",
      "[['art', 1], ['beautiful', 1], ['fun', 1], ['weapon', 1], ['loop', 1], ['perfect', 1]]\n",
      "[['music', 1], ['combat', 1], ['story', 1], ['upgrade', 1], ['althought', 1], ['best', 1], ['daddy', 1], ['difficulty', 2], ['making', 1], ['many', 1], ['market', 1], ['permanent', 1], ['play', 1], ['powered', 1], ['replayabilty', 1], ['tweaking', 1], ['writting', 1]]\n",
      "[['fun', 1], ['alot', 1], ['die', 1], ['lol', 1], ['u', 1]]\n"
     ]
    }
   ],
   "source": [
    "# Define a function to preprocess the texts\n",
    "def preprocess_text(text):\n",
    "    # Tokenize the text\n",
    "    tokens = word_tokenize(text)\n",
    "\n",
    "    # Remove non-alphabetic tokens, such as punctuation\n",
    "    words = [token.lower() for token in tokens if token.isalpha()]\n",
    "\n",
    "    # Filter out stop words\n",
    "    words = [word for word in words if word not in stop_words]\n",
    "\n",
    "    # Lemmatize words\n",
    "    words = [lemmatizer.lemmatize(word) for word in words]\n",
    "\n",
    "    return words\n",
    "\n",
    "# Apply preprocessing to the review column\n",
    "df['tokens'] = df['review'].apply(preprocess_text)\n",
    "\n",
    "# Tokenize each review string into a list of tokens\n",
    "tokenized_reviews = list(df['tokens'])\n",
    "\n",
    "# Create a dictionary representation of the documents\n",
    "dictionary = Dictionary(tokenized_reviews)\n",
    "\n",
    "# Create Bag-of-words representation of the documents\n",
    "corpus = [dictionary.doc2bow(review) for review in tokenized_reviews]\n",
    "\n",
    "# print out the first 5 documents in the corpus\n",
    "for doc in corpus[:5]:\n",
    "    print([[dictionary[id], freq] for id, freq in doc])"
   ]
  },
  {
   "cell_type": "code",
   "execution_count": 26,
   "metadata": {},
   "outputs": [
    {
     "name": "stdout",
     "output_type": "stream",
     "text": [
      "Topic 1: game, hour, playing, really, get, fun, update, love, play, time\n",
      "Topic 2: worth, price, money, bug, full, good, easy, hard, bad, sale\n",
      "Topic 3: game, run, weapon, get, like, time, feel, even, make, different\n",
      "Topic 4: good, stab, isaac, binding, b, die, pretty, gungeon, enter, u\n",
      "Topic 5: hades, dead, pet, cell, god, cerberus, zagreus, underworld, dog, greek\n",
      "Topic 6: great, game, gameplay, story, amazing, art, voice, fun, acting, music\n",
      "Topic 7: game, best, one, played, access, early, supergiant, ever, like, even\n",
      "Topic 8: game, character, story, gameplay, combat, well, fun, feel, great, hades\n",
      "Topic 9: dash, hell, one, run, controller, con, pro, diablo, like, go\n",
      "Topic 10: game, like, recommend, love, ca, wait, would, supergiant, dungeon, fun\n"
     ]
    }
   ],
   "source": [
    "# Define the number of topics for the LDA model\n",
    "num_topics = 10\n",
    "\n",
    "# Train the LDA model\n",
    "lda_model = LdaModel(corpus, num_topics=num_topics, id2word=dictionary)\n",
    "\n",
    "# Get the top 10 topics in the LDA model\n",
    "top_topics = lda_model.show_topics(num_topics=10, num_words=10)\n",
    "\n",
    "# Print the top 10 topics as single words\n",
    "for topic_id, topic in top_topics:\n",
    "    topic_words = [word.split('*')[1].replace('\"', '').strip() for word in topic.split('+')]\n",
    "    topic_words = ', '.join(topic_words)\n",
    "    print(f\"Topic {topic_id + 1}: {topic_words}\")"
   ]
  },
  {
   "cell_type": "markdown",
   "metadata": {},
   "source": [
    "It's hard to get a clear theme from these. Lots of action words, so perhaps 'gameplay' is a good theme? Or perhaps its too general. Let's check the top bigrams to see if they reveal anything else about the review topics:"
   ]
  },
  {
   "cell_type": "code",
   "execution_count": 27,
   "metadata": {},
   "outputs": [
    {
     "name": "stdout",
     "output_type": "stream",
     "text": [
      "Top 10 bigrams:\n",
      "button_mashy\n",
      "hack_slash\n",
      "learning_curve\n",
      "keyboard_mouse\n",
      "greek_mythology\n",
      "gon_na\n",
      "early_access\n",
      "floating_head\n",
      "fishing_minigame\n",
      "top_notch\n"
     ]
    }
   ],
   "source": [
    "# Initialize the bigram model\n",
    "bigram_model = Phrases(tokenized_reviews, min_count=5, threshold=100)\n",
    "\n",
    "# Get the top bigrams\n",
    "top_bigrams = list(bigram_model.export_phrases())\n",
    "\n",
    "# Print the top 10 bigrams\n",
    "print(\"Top 10 bigrams:\")\n",
    "for bigram in top_bigrams[:10]:\n",
    "    print(bigram)"
   ]
  },
  {
   "cell_type": "markdown",
   "metadata": {},
   "source": [
    "Some of these look helpful. We might categorize button_mashy, hack_slash, learning_curve, keyboard_mouse, and fishing_minigame as 'gameplay' topics, and greek_mythology as 'story.' Let's see if we get any more clarity by limiting our bigrams to our pre-selected themes:"
   ]
  },
  {
   "cell_type": "code",
   "execution_count": 28,
   "metadata": {},
   "outputs": [
    {
     "name": "stdout",
     "output_type": "stream",
     "text": [
      "Top 5 bigrams for Music theme:\n",
      "sound_track: Count - 10\n",
      "instead_audio: Count - 12\n",
      "audio_eargasm: Count - 12\n",
      "musical_score: Count - 12\n",
      "mass_effect: Count - 10\n",
      "\n",
      "Top 5 bigrams for Story theme:\n",
      "side_quest: Count - 9\n",
      "question_asked: Count - 13\n",
      "family_drama: Count - 11\n",
      "extended_family: Count - 14\n",
      "answer_question: Count - 14\n",
      "\n",
      "Top 5 bigrams for Game play theme:\n",
      "attack_pattern: Count - 13\n",
      "power_ups: Count - 8\n",
      "el_combate: Count - 9\n",
      "power_creep: Count - 10\n",
      "micro_transaction: Count - 16\n",
      "\n",
      "Top 5 bigrams for Visuals theme:\n",
      "late_party: Count - 9\n",
      "add_cart: Count - 7\n",
      "vibrant_color: Count - 12\n",
      "color_palette: Count - 12\n",
      "farewell_earthly: Count - 15\n",
      "\n"
     ]
    }
   ],
   "source": [
    "# Create a dictionary to store the theme bigrams\n",
    "theme_bigrams = {}\n",
    "\n",
    "# Filter the top bigrams based on themes and their synonyms\n",
    "for theme, words in themes.items():\n",
    "    theme_bigrams.setdefault(theme, [])\n",
    "    \n",
    "    for bigram in top_bigrams:\n",
    "        if any(word in bigram for word in words):\n",
    "            theme_bigrams[theme].append(''.join(bigram))\n",
    "\n",
    "# Print the top 5 bigrams for each theme\n",
    "for theme, bigrams in theme_bigrams.items():\n",
    "    print(f\"Top 5 bigrams for {theme.capitalize()} theme:\")\n",
    "    for bigram in bigrams[:5]:\n",
    "        count = len(bigram.replace('_', ''))\n",
    "        print(f\"{bigram}: Count - {count}\")\n",
    "    print()"
   ]
  },
  {
   "cell_type": "markdown",
   "metadata": {},
   "source": [
    "That is definitely more useful! We we are able to see which of the words are associated with each them, and how often those pairs appeared. Now let's step back and see how often our themes appeared more generally. "
   ]
  },
  {
   "cell_type": "code",
   "execution_count": 29,
   "metadata": {},
   "outputs": [
    {
     "name": "stdout",
     "output_type": "stream",
     "text": [
      "music: 15901 appearances\n",
      "story: 28991 appearances\n",
      "game play: 27548 appearances\n",
      "visuals: 17288 appearances\n"
     ]
    }
   ],
   "source": [
    "# Create a dictionary to store theme appearance counts\n",
    "theme_appearance_counts = {theme: 0 for theme in themes}\n",
    "\n",
    "# Iterate over each review\n",
    "for review in df['review']:\n",
    "    # Check if each theme is mentioned in the review at least once\n",
    "    for theme, words in themes.items():\n",
    "        if any(word in review for word in words):\n",
    "            theme_appearance_counts[theme] += 1\n",
    "\n",
    "# Print the theme appearance counts\n",
    "for theme, count in theme_appearance_counts.items():\n",
    "    print(f\"{theme}: {count} appearances\")"
   ]
  },
  {
   "cell_type": "code",
   "execution_count": 30,
   "metadata": {},
   "outputs": [
    {
     "data": {
      "image/png": "[encoded data removed]",
      "text/plain": [
       "<Figure size 640x480 with 1 Axes>"
      ]
     },
     "metadata": {},
     "output_type": "display_data"
    }
   ],
   "source": [
    "# Define the themes and their appearance counts\n",
    "themes = ['music', 'story', 'gameplay', 'visuals']\n",
    "appearance_counts = [15901, 28991, 25387, 17288]\n",
    "\n",
    "# Define colors for the bars\n",
    "colors = ['blue', 'orange', 'green', 'red']\n",
    "\n",
    "# Create a bar chart with colored bars\n",
    "plt.bar(themes, appearance_counts, color=colors)\n",
    "\n",
    "# Customize the chart\n",
    "plt.xlabel('Themes')\n",
    "plt.ylabel('Appearance Counts')\n",
    "plt.title('Theme Appearances in Reviews')\n",
    "\n",
    "# Display the chart\n",
    "plt.show()"
   ]
  },
  {
   "cell_type": "markdown",
   "metadata": {},
   "source": [
    "# Conclusion"
   ]
  },
  {
   "cell_type": "markdown",
   "metadata": {},
   "source": [
    "1) The reviews for the game Hades generally expressed positive sentiment, although the overall level of positivity falls within the range of 0 to 0.25.\n",
    "\n",
    "2) When discussing their experiences with the game, players frequently emphasized the importance of the game's story. This indicates that the narrative elements of Hades are a significant aspect of player enjoyment.\n",
    "\n",
    "3) It appears that players may have limited vocabulary when describing their appreciation for the 'music' and 'visuals' in Hades. This suggests that while players find these aspects appealing, they may struggle to articulate their specific likes or preferences regarding the music and visual elements of the game."
   ]
  },
  {
   "cell_type": "markdown",
   "metadata": {},
   "source": [
    "# Reccomendations"
   ]
  },
  {
   "cell_type": "markdown",
   "metadata": {},
   "source": [
    "Based on these findings, I would recommend SuperGiant Games to continue focusing on the strong storytelling elements of Hades, as players consistently highlighted this aspect. Additionally, efforts can be made to enhance players' ability to express their positive impressions of the 'music' and 'visuals' by potentially providing prompts or specific questions related to these aspects in reviews or feedback forms. This would help gather more detailed and insightful feedback on the game's audio and visual components."
   ]
  },
  {
   "cell_type": "markdown",
   "metadata": {},
   "source": [
    "## Limitations\n",
    "\n",
    "Given the computational limitations, making confident predictions about the specific aspects of the game that received positive reviews remains challenging. However, we were successful in adding complexity to the analysis of reviews by incorporating sentiment analysis and exploring themes within the text. This approach has revealed potential insights and indicates the value of delving deeper into the analysis. Further investigation into the sentiment scores of specific themes and their impact on overall sentiment could provide valuable insights into the aspects of the game that resonate with reviewers. Despite the challenges, our findings suggest that there is merit in continuing to explore and refine our analysis methods to gain a deeper understanding of the factors contributing to positive reviews."
   ]
  },
  {
   "cell_type": "markdown",
   "metadata": {},
   "source": [
    "### For Further Research"
   ]
  },
  {
   "cell_type": "markdown",
   "metadata": {},
   "source": [
    "I'd like to check the sentiment scores for each of our themes. So I need code that looks at the sentiment scores of the sentences of each review, determines whether or not the sentence is referring to a particular one of our 4 themes, and then adds that score to the proper theme column. For each review. "
   ]
  },
  {
   "cell_type": "code",
   "execution_count": 31,
   "metadata": {},
   "outputs": [
    {
     "ename": "AttributeError",
     "evalue": "'list' object has no attribute 'items'",
     "output_type": "error",
     "traceback": [
      "\u001b[1;31m---------------------------------------------------------------------------\u001b[0m",
      "\u001b[1;31mAttributeError\u001b[0m                            Traceback (most recent call last)",
      "Cell \u001b[1;32mIn[31], line 12\u001b[0m\n\u001b[0;32m     10\u001b[0m \u001b[38;5;66;03m# Calculate sentiment score for each sentence in the review\u001b[39;00m\n\u001b[0;32m     11\u001b[0m \u001b[38;5;28;01mfor\u001b[39;00m sentence \u001b[38;5;129;01min\u001b[39;00m review:\n\u001b[1;32m---> 12\u001b[0m     \u001b[38;5;28;01mfor\u001b[39;00m theme, words \u001b[38;5;129;01min\u001b[39;00m themes\u001b[38;5;241m.\u001b[39mitems():\n\u001b[0;32m     13\u001b[0m         \u001b[38;5;28;01mif\u001b[39;00m \u001b[38;5;28many\u001b[39m(word \u001b[38;5;129;01min\u001b[39;00m sentence \u001b[38;5;28;01mfor\u001b[39;00m word \u001b[38;5;129;01min\u001b[39;00m words):\n\u001b[0;32m     14\u001b[0m             sentiment \u001b[38;5;241m=\u001b[39m TextBlob(sentence, analyzer\u001b[38;5;241m=\u001b[39mtb)\u001b[38;5;241m.\u001b[39msentiment\u001b[38;5;241m.\u001b[39mp_pos\n",
      "\u001b[1;31mAttributeError\u001b[0m: 'list' object has no attribute 'items'"
     ]
    }
   ],
   "source": [
    "# Create theme sentiment columns in the DataFrame\n",
    "for theme in themes:\n",
    "    df[theme + '_sentiment'] = 0.0\n",
    "\n",
    "# Iterate over each review\n",
    "for review in df['review']:\n",
    "    # Initialize sentiment scores for each theme\n",
    "    theme_scores = {theme: 0.0 for theme in themes}\n",
    "    \n",
    "    # Calculate sentiment score for each sentence in the review\n",
    "    for sentence in review:\n",
    "        for theme, words in themes.items():\n",
    "            if any(word in sentence for word in words):\n",
    "                sentiment = TextBlob(sentence, analyzer=tb).sentiment.p_pos\n",
    "                theme_scores[theme] += sentiment\n",
    "    \n",
    "    # Add the sentiment scores to the DataFrame\n",
    "    for theme, score in theme_scores.items():\n",
    "        df.loc[df['review'] == review, theme + '_sentiment'] = score"
   ]
  },
  {
   "cell_type": "code",
   "execution_count": null,
   "metadata": {},
   "outputs": [],
   "source": [
    "# Apply sentiment analysis to each sentence in the selected data\n",
    "df_sampled['sentiment'] = df_sampled['review'].apply(get_sentiment)\n",
    "# Create theme-specific sentiment score columns\n",
    "for theme in themes:\n",
    "    theme_column = f'{theme}_sentiment'\n",
    "    df_sampled[theme_column] = df_sampled['sentiment'].apply(lambda sentiments: [sentiment for sentiment in sentiments if isinstance(sentiments, list) and isinstance(sentiment, str) and theme in sentiment])"
   ]
  },
  {
   "cell_type": "code",
   "execution_count": null,
   "metadata": {},
   "outputs": [],
   "source": [
    "# Set the size of the scatter points\n",
    "point_size = 50\n",
    "\n",
    "# Create a scatter plot for each theme\n",
    "fig, axes = plt.subplots(nrows=len(themes), figsize=(8, 12))\n",
    "\n",
    "for i, (theme, ax) in enumerate(zip(themes, axes)):\n",
    "    sentiment_column = f'{theme}_sentiment'\n",
    "    \n",
    "    # Get the sentiment scores and review lengths for the theme\n",
    "    sentiment_scores = df[sentiment_column].explode().values\n",
    "    review_lengths = df['review'].apply(len).values\n",
    "    \n",
    "    # Create the color map for sentiment scores\n",
    "    cmap = plt.cm.coolwarm\n",
    "    norm = plt.Normalize(vmin=min(sentiment_scores), vmax=max(sentiment_scores))\n",
    "    colors = cmap(norm(sentiment_scores))\n",
    "    \n",
    "    # Create the scatter plot\n",
    "    ax.scatter(review_lengths, sentiment_scores, c=colors, cmap='coolwarm', s=point_size, alpha=0.7, edgecolors='black', label=theme)\n",
    "    \n",
    "    ax.set_xlabel('Review Length')\n",
    "    ax.set_ylabel('Sentiment Score')\n",
    "    ax.set_title(f'Sentiment Scores vs Review Length for {theme.capitalize()} Theme')\n",
    "    ax.legend()\n",
    "\n",
    "plt.tight_layout()\n",
    "plt.show()"
   ]
  },
  {
   "cell_type": "code",
   "execution_count": null,
   "metadata": {},
   "outputs": [],
   "source": [
    "# Set up colors for each theme\n",
    "theme_colors = ['red', 'blue', 'green', 'orange']\n",
    "\n",
    "# Set the width of each bar\n",
    "bar_width = 0.15\n",
    "\n",
    "# Set the x coordinates for the bars\n",
    "x = np.arange(len(themes))\n",
    "\n",
    "# Plot the sentiment scores for each theme side by side\n",
    "plt.figure(figsize=(8, 6))\n",
    "\n",
    "for i, theme in enumerate(themes.keys()):\n",
    "    sentiment_column = f'{theme}_sentiment'\n",
    "    theme_sentiments = df[sentiment_column].explode().dropna()\n",
    "    \n",
    "    # Calculate the x position for each theme's bar\n",
    "    x_pos = x[i]\n",
    "    \n",
    "    # Plot histogram of sentiment scores with the corresponding color and x position\n",
    "    plt.hist(theme_sentiments, bins=5, range=(0, 1), alpha=0.7, edgecolor='black',\n",
    "             color=theme_colors[i], label=theme, align='mid', rwidth=bar_width)\n",
    "\n",
    "plt.xlabel('Sentiment Score')\n",
    "plt.ylabel('Frequency')\n",
    "plt.title('Sentiment Distribution for Themes')\n",
    "plt.xticks(x, themes.keys())\n",
    "plt.legend()\n",
    "plt.tight_layout()\n",
    "plt.show()"
   ]
  },
  {
   "cell_type": "code",
   "execution_count": null,
   "metadata": {},
   "outputs": [],
   "source": [
    "# Create a dictionary to store theme appearance counts\n",
    "theme_appearance_counts = {theme: 0 for theme in themes}\n",
    "\n",
    "# Define the threshold for selecting bigrams\n",
    "threshold = 5\n",
    "\n",
    "# Iterate over each review\n",
    "for review in df['review']:\n",
    "    # Check if each theme is mentioned in the review at least once\n",
    "    for theme, words in themes.items():\n",
    "        if any(word in review for word in words):\n",
    "            theme_appearance_counts[theme] += 1\n",
    "\n",
    "            # Create a list of theme-related sentences\n",
    "            theme_sentences = [sentence for sentence in review.split('.') if any(word in sentence for word in words)]\n",
    "\n",
    "            # Tokenize the theme-related sentences\n",
    "            tokenized_sentences = [word_tokenize(sentence.lower()) for sentence in theme_sentences]\n",
    "\n",
    "            # Create a finder to identify bigrams\n",
    "            finder = BigramCollocationFinder.from_documents(tokenized_sentences)\n",
    "\n",
    "            # Apply a frequency filter to select relevant bigrams\n",
    "            finder.apply_freq_filter(threshold)\n",
    "\n",
    "            # Get the top 5 most common bigrams with sentiment words\n",
    "            top_bigrams = finder.nbest(BigramAssocMeasures.raw_freq, 5)\n",
    "\n",
    "            # Print the top bigrams\n",
    "            print(f'Top bigrams for {theme.capitalize()} theme:')\n",
    "            for bigram in top_bigrams:\n",
    "                print(' '.join(bigram))\n",
    "            print()\n",
    "\n",
    "# Print the theme appearance counts\n",
    "for theme, count in theme_appearance_counts.items():\n",
    "    print(f\"{theme}: {count} appearances\")"
   ]
  },
  {
   "cell_type": "markdown",
   "metadata": {},
   "source": [
    "Maybe check to see how my pre-selected themes did in terms of meaningful score using the LDA:"
   ]
  },
  {
   "cell_type": "code",
   "execution_count": null,
   "metadata": {},
   "outputs": [],
   "source": [
    "# Create a dictionary to store theme sentiment scores\n",
    "theme_sentiments = {theme: [] for theme in themes}\n",
    "\n",
    "# Iterate over each review\n",
    "for review in df['review']:\n",
    "    # Calculate sentiment score for each sentence in the review\n",
    "    for sentence in review:\n",
    "        for theme in themes:\n",
    "            if any(word in sentence for word in themes[theme]):\n",
    "                sentiment = TextBlob(sentence, analyzer=tb).sentiment.p_pos\n",
    "                theme_sentiments[theme].append(sentiment)\n",
    "\n",
    "# Print theme sentiment scores\n",
    "for theme, sentiments in theme_sentiments.items():\n",
    "    print(f\"{theme.capitalize()} Sentiment Scores: {sentiments}\")"
   ]
  },
  {
   "cell_type": "code",
   "execution_count": null,
   "metadata": {},
   "outputs": [],
   "source": []
  }
 ],
 "metadata": {
  "kernelspec": {
   "display_name": "Python 3 (ipykernel)",
   "language": "python",
   "name": "python3"
  },
  "language_info": {
   "codemirror_mode": {
    "name": "ipython",
    "version": 3
   },
   "file_extension": ".py",
   "mimetype": "text/x-python",
   "name": "python",
   "nbconvert_exporter": "python",
   "pygments_lexer": "ipython3",
   "version": "3.11.3"
  }
 },
 "nbformat": 4,
 "nbformat_minor": 4
}
