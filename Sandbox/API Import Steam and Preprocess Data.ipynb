{
 "cells": [
  {
   "cell_type": "code",
   "execution_count": 2,
   "metadata": {
    "scrolled": true
   },
   "outputs": [],
   "source": [
    "import steamreviews\n",
    "import requests\n",
    "from bs4 import BeautifulSoup\n",
    "import pandas as pd\n",
    "import re\n",
    "import numpy as np\n",
    "import os"
   ]
  },
  {
   "cell_type": "code",
   "execution_count": 3,
   "metadata": {},
   "outputs": [
    {
     "name": "stdout",
     "output_type": "stream",
     "text": [
      "Loading idprocessed_on_20230703.txt\n",
      "Skipping previously found appID = 1145360\n",
      "Skipping previously found appID = 462770\n",
      "Skipping previously found appID = 237930\n",
      "Skipping previously found appID = 107100\n",
      "Game records written: 0\n"
     ]
    },
    {
     "data": {
      "text/plain": [
       "True"
      ]
     },
     "execution_count": 3,
     "metadata": {},
     "output_type": "execute_result"
    }
   ],
   "source": [
    "request_params = dict()\n",
    "request_params['language'] = 'english'\n",
    "\n",
    "#Import the reviews from Steam\n",
    "app_ids = [1145360, 462770, 237930, 107100]\n",
    "steamreviews.download_reviews_for_app_id_batch(app_ids)"
   ]
  },
  {
   "cell_type": "code",
   "execution_count": 22,
   "metadata": {},
   "outputs": [],
   "source": [
    "# List all JSON files in a directory\n",
    "json_files = [pos_json for pos_json in os.listdir('D:/Git/phase_4/data') if pos_json.endswith('.json')]\n",
    "\n",
    "# Create an empty DataFrame to store all reviews\n",
    "df = pd.DataFrame()\n",
    "\n",
    "# Loop through all JSON files and concatenate them into the DataFrame\n",
    "for file in json_files:\n",
    "    temp_df = pd.read_json('D:/Git/phase_4/data/' + file)\n",
    "    df = pd.concat([df, temp_df], ignore_index=True)"
   ]
  },
  {
   "cell_type": "code",
   "execution_count": 23,
   "metadata": {},
   "outputs": [
    {
     "name": "stdout",
     "output_type": "stream",
     "text": [
      "<class 'pandas.core.frame.DataFrame'>\n",
      "RangeIndex: 301971 entries, 0 to 301970\n",
      "Data columns (total 3 columns):\n",
      " #   Column         Non-Null Count   Dtype \n",
      "---  ------         --------------   ----- \n",
      " 0   reviews        301939 non-null  object\n",
      " 1   query_summary  24 non-null      object\n",
      " 2   cursors        8 non-null       object\n",
      "dtypes: object(3)\n",
      "memory usage: 6.9+ MB\n"
     ]
    }
   ],
   "source": [
    "df.info()"
   ]
  },
  {
   "cell_type": "code",
   "execution_count": 24,
   "metadata": {},
   "outputs": [],
   "source": [
    "# Only keep rows where 'reviews' is a dictionary\n",
    "df = df[df['reviews'].apply(lambda x: isinstance(x, dict))]\n",
    "\n",
    "# Normalize the 'reviews' column\n",
    "expanded_reviews_df = pd.json_normalize(df['reviews'])\n",
    "\n",
    "# Use the pd.json_normalize() function to expand the dictionaries in each row into their own dataframe\n",
    "expanded_reviews_df = pd.json_normalize(df['reviews'])\n",
    "\n",
    "# Concatenate it with your original dataframe if necessary\n",
    "df = pd.concat([df, expanded_reviews_df], axis=1)\n",
    "\n",
    "# Drop the original 'reviews' column as it is no longer needed\n",
    "df = df.drop(columns=['reviews'])\n",
    "\n",
    "# Save your dataframe to a CSV\n",
    "df.to_csv('SuperGiant_reviews.csv')"
   ]
  },
  {
   "cell_type": "code",
   "execution_count": 25,
   "metadata": {},
   "outputs": [
    {
     "name": "stdout",
     "output_type": "stream",
     "text": [
      "<class 'pandas.core.frame.DataFrame'>\n",
      "Int64Index: 301963 entries, 0 to 293645\n",
      "Data columns (total 26 columns):\n",
      " #   Column                          Non-Null Count   Dtype  \n",
      "---  ------                          --------------   -----  \n",
      " 0   query_summary                   0 non-null       object \n",
      " 1   cursors                         0 non-null       object \n",
      " 2   recommendationid                301939 non-null  object \n",
      " 3   language                        301939 non-null  object \n",
      " 4   review                          301939 non-null  object \n",
      " 5   timestamp_created               301939 non-null  float64\n",
      " 6   timestamp_updated               301939 non-null  float64\n",
      " 7   voted_up                        301939 non-null  object \n",
      " 8   votes_up                        301939 non-null  float64\n",
      " 9   votes_funny                     301939 non-null  float64\n",
      " 10  weighted_vote_score             301939 non-null  object \n",
      " 11  comment_count                   301939 non-null  float64\n",
      " 12  steam_purchase                  301939 non-null  object \n",
      " 13  received_for_free               301939 non-null  object \n",
      " 14  written_during_early_access     301939 non-null  object \n",
      " 15  hidden_in_steam_china           301939 non-null  object \n",
      " 16  steam_china_location            301939 non-null  object \n",
      " 17  author.steamid                  301939 non-null  object \n",
      " 18  author.num_games_owned          301939 non-null  float64\n",
      " 19  author.num_reviews              301939 non-null  float64\n",
      " 20  author.playtime_forever         301939 non-null  float64\n",
      " 21  author.playtime_last_two_weeks  301939 non-null  float64\n",
      " 22  author.playtime_at_review       301627 non-null  float64\n",
      " 23  author.last_played              301939 non-null  float64\n",
      " 24  timestamp_dev_responded         52 non-null      float64\n",
      " 25  developer_response              52 non-null      object \n",
      "dtypes: float64(12), object(14)\n",
      "memory usage: 62.2+ MB\n"
     ]
    }
   ],
   "source": [
    "df.info()"
   ]
  },
  {
   "cell_type": "code",
   "execution_count": 19,
   "metadata": {},
   "outputs": [
    {
     "data": {
      "text/html": [
       "<div>\n",
       "<style scoped>\n",
       "    .dataframe tbody tr th:only-of-type {\n",
       "        vertical-align: middle;\n",
       "    }\n",
       "\n",
       "    .dataframe tbody tr th {\n",
       "        vertical-align: top;\n",
       "    }\n",
       "\n",
       "    .dataframe thead th {\n",
       "        text-align: right;\n",
       "    }\n",
       "</style>\n",
       "<table border=\"1\" class=\"dataframe\">\n",
       "  <thead>\n",
       "    <tr style=\"text-align: right;\">\n",
       "      <th></th>\n",
       "      <th>query_summary</th>\n",
       "      <th>cursors</th>\n",
       "      <th>recommendationid</th>\n",
       "      <th>language</th>\n",
       "      <th>review</th>\n",
       "      <th>timestamp_created</th>\n",
       "      <th>timestamp_updated</th>\n",
       "      <th>voted_up</th>\n",
       "      <th>votes_up</th>\n",
       "      <th>votes_funny</th>\n",
       "      <th>...</th>\n",
       "      <th>steam_china_location</th>\n",
       "      <th>author.steamid</th>\n",
       "      <th>author.num_games_owned</th>\n",
       "      <th>author.num_reviews</th>\n",
       "      <th>author.playtime_forever</th>\n",
       "      <th>author.playtime_last_two_weeks</th>\n",
       "      <th>author.playtime_at_review</th>\n",
       "      <th>author.last_played</th>\n",
       "      <th>timestamp_dev_responded</th>\n",
       "      <th>developer_response</th>\n",
       "    </tr>\n",
       "  </thead>\n",
       "  <tbody>\n",
       "    <tr>\n",
       "      <th>0</th>\n",
       "      <td>NaN</td>\n",
       "      <td>NaN</td>\n",
       "      <td>140062592</td>\n",
       "      <td>english</td>\n",
       "      <td>After playing and absolutely loving Hades, I d...</td>\n",
       "      <td>1.686771e+09</td>\n",
       "      <td>1.686771e+09</td>\n",
       "      <td>True</td>\n",
       "      <td>0.0</td>\n",
       "      <td>0.0</td>\n",
       "      <td>...</td>\n",
       "      <td></td>\n",
       "      <td>76561198182147498</td>\n",
       "      <td>0.0</td>\n",
       "      <td>14.0</td>\n",
       "      <td>318.0</td>\n",
       "      <td>318.0</td>\n",
       "      <td>318.0</td>\n",
       "      <td>1.686621e+09</td>\n",
       "      <td>NaN</td>\n",
       "      <td>NaN</td>\n",
       "    </tr>\n",
       "    <tr>\n",
       "      <th>1</th>\n",
       "      <td>NaN</td>\n",
       "      <td>NaN</td>\n",
       "      <td>140046743</td>\n",
       "      <td>english</td>\n",
       "      <td>The game is great, combat is fun with lots of ...</td>\n",
       "      <td>1.686749e+09</td>\n",
       "      <td>1.686749e+09</td>\n",
       "      <td>True</td>\n",
       "      <td>0.0</td>\n",
       "      <td>0.0</td>\n",
       "      <td>...</td>\n",
       "      <td></td>\n",
       "      <td>76561198405922322</td>\n",
       "      <td>180.0</td>\n",
       "      <td>6.0</td>\n",
       "      <td>392.0</td>\n",
       "      <td>392.0</td>\n",
       "      <td>392.0</td>\n",
       "      <td>1.686748e+09</td>\n",
       "      <td>NaN</td>\n",
       "      <td>NaN</td>\n",
       "    </tr>\n",
       "    <tr>\n",
       "      <th>9</th>\n",
       "      <td>NaN</td>\n",
       "      <td>NaN</td>\n",
       "      <td>139914326</td>\n",
       "      <td>english</td>\n",
       "      <td>Finished this game off-steam, but have to come...</td>\n",
       "      <td>1.686520e+09</td>\n",
       "      <td>1.686520e+09</td>\n",
       "      <td>True</td>\n",
       "      <td>0.0</td>\n",
       "      <td>0.0</td>\n",
       "      <td>...</td>\n",
       "      <td></td>\n",
       "      <td>76561197992689577</td>\n",
       "      <td>0.0</td>\n",
       "      <td>124.0</td>\n",
       "      <td>233.0</td>\n",
       "      <td>0.0</td>\n",
       "      <td>233.0</td>\n",
       "      <td>1.546734e+09</td>\n",
       "      <td>NaN</td>\n",
       "      <td>NaN</td>\n",
       "    </tr>\n",
       "    <tr>\n",
       "      <th>10</th>\n",
       "      <td>NaN</td>\n",
       "      <td>NaN</td>\n",
       "      <td>139882729</td>\n",
       "      <td>english</td>\n",
       "      <td>[h1]Comentario Analítico: \"Bastion\"[/h1]\\n\\nEn...</td>\n",
       "      <td>1.686478e+09</td>\n",
       "      <td>1.686478e+09</td>\n",
       "      <td>True</td>\n",
       "      <td>3.0</td>\n",
       "      <td>0.0</td>\n",
       "      <td>...</td>\n",
       "      <td></td>\n",
       "      <td>76561198113848693</td>\n",
       "      <td>0.0</td>\n",
       "      <td>271.0</td>\n",
       "      <td>672.0</td>\n",
       "      <td>0.0</td>\n",
       "      <td>672.0</td>\n",
       "      <td>1.560983e+09</td>\n",
       "      <td>NaN</td>\n",
       "      <td>NaN</td>\n",
       "    </tr>\n",
       "    <tr>\n",
       "      <th>11</th>\n",
       "      <td>NaN</td>\n",
       "      <td>NaN</td>\n",
       "      <td>139877123</td>\n",
       "      <td>english</td>\n",
       "      <td>Supergiants first game and you can tell it's m...</td>\n",
       "      <td>1.686469e+09</td>\n",
       "      <td>1.686469e+09</td>\n",
       "      <td>True</td>\n",
       "      <td>0.0</td>\n",
       "      <td>0.0</td>\n",
       "      <td>...</td>\n",
       "      <td></td>\n",
       "      <td>76561198281072985</td>\n",
       "      <td>395.0</td>\n",
       "      <td>24.0</td>\n",
       "      <td>279.0</td>\n",
       "      <td>0.0</td>\n",
       "      <td>279.0</td>\n",
       "      <td>1.641619e+09</td>\n",
       "      <td>NaN</td>\n",
       "      <td>NaN</td>\n",
       "    </tr>\n",
       "  </tbody>\n",
       "</table>\n",
       "<p>5 rows × 26 columns</p>\n",
       "</div>"
      ],
      "text/plain": [
       "   query_summary cursors recommendationid language  \\\n",
       "0            NaN     NaN        140062592  english   \n",
       "1            NaN     NaN        140046743  english   \n",
       "9            NaN     NaN        139914326  english   \n",
       "10           NaN     NaN        139882729  english   \n",
       "11           NaN     NaN        139877123  english   \n",
       "\n",
       "                                               review  timestamp_created  \\\n",
       "0   After playing and absolutely loving Hades, I d...       1.686771e+09   \n",
       "1   The game is great, combat is fun with lots of ...       1.686749e+09   \n",
       "9   Finished this game off-steam, but have to come...       1.686520e+09   \n",
       "10  [h1]Comentario Analítico: \"Bastion\"[/h1]\\n\\nEn...       1.686478e+09   \n",
       "11  Supergiants first game and you can tell it's m...       1.686469e+09   \n",
       "\n",
       "    timestamp_updated voted_up  votes_up  votes_funny  ...  \\\n",
       "0        1.686771e+09     True       0.0          0.0  ...   \n",
       "1        1.686749e+09     True       0.0          0.0  ...   \n",
       "9        1.686520e+09     True       0.0          0.0  ...   \n",
       "10       1.686478e+09     True       3.0          0.0  ...   \n",
       "11       1.686469e+09     True       0.0          0.0  ...   \n",
       "\n",
       "   steam_china_location     author.steamid author.num_games_owned  \\\n",
       "0                        76561198182147498                    0.0   \n",
       "1                        76561198405922322                  180.0   \n",
       "9                        76561197992689577                    0.0   \n",
       "10                       76561198113848693                    0.0   \n",
       "11                       76561198281072985                  395.0   \n",
       "\n",
       "   author.num_reviews author.playtime_forever author.playtime_last_two_weeks  \\\n",
       "0                14.0                   318.0                          318.0   \n",
       "1                 6.0                   392.0                          392.0   \n",
       "9               124.0                   233.0                            0.0   \n",
       "10              271.0                   672.0                            0.0   \n",
       "11               24.0                   279.0                            0.0   \n",
       "\n",
       "   author.playtime_at_review author.last_played  timestamp_dev_responded  \\\n",
       "0                      318.0       1.686621e+09                      NaN   \n",
       "1                      392.0       1.686748e+09                      NaN   \n",
       "9                      233.0       1.546734e+09                      NaN   \n",
       "10                     672.0       1.560983e+09                      NaN   \n",
       "11                     279.0       1.641619e+09                      NaN   \n",
       "\n",
       "    developer_response  \n",
       "0                  NaN  \n",
       "1                  NaN  \n",
       "9                  NaN  \n",
       "10                 NaN  \n",
       "11                 NaN  \n",
       "\n",
       "[5 rows x 26 columns]"
      ]
     },
     "execution_count": 19,
     "metadata": {},
     "output_type": "execute_result"
    }
   ],
   "source": [
    "df.head()"
   ]
  },
  {
   "cell_type": "code",
   "execution_count": 30,
   "metadata": {},
   "outputs": [],
   "source": [
    "#Drop Nulls\n",
    "df = df.dropna(subset=['review'])\n",
    "\n",
    "#Keep only English reviews\n",
    "df = df[df['language'] == 'english']\n",
    "\n",
    "# Drop Unnecessary Columns\n",
    "df = df.drop(df.columns[[0, 1, 2, 5, 6, 15, 16, 17]], axis=1)\n",
    "\n",
    "# Create a mask where each review has more than one word and at least one alphabetic character\n",
    "mask = df['review'].apply(lambda x: len(re.findall(r'\\b\\w+\\b', str(x))) > 5 and bool(re.search('[a-zA-Z]', str(x))))\n",
    "\n",
    "# Apply the mask to the DataFrame to filter out reviews\n",
    "df = df[mask]"
   ]
  },
  {
   "cell_type": "code",
   "execution_count": 31,
   "metadata": {},
   "outputs": [
    {
     "name": "stdout",
     "output_type": "stream",
     "text": [
      "<class 'pandas.core.frame.DataFrame'>\n",
      "Int64Index: 115959 entries, 0 to 293645\n",
      "Data columns (total 18 columns):\n",
      " #   Column                          Non-Null Count   Dtype  \n",
      "---  ------                          --------------   -----  \n",
      " 0   language                        115959 non-null  object \n",
      " 1   review                          115959 non-null  object \n",
      " 2   voted_up                        115959 non-null  object \n",
      " 3   votes_up                        115959 non-null  float64\n",
      " 4   votes_funny                     115959 non-null  float64\n",
      " 5   weighted_vote_score             115959 non-null  object \n",
      " 6   comment_count                   115959 non-null  float64\n",
      " 7   steam_purchase                  115959 non-null  object \n",
      " 8   received_for_free               115959 non-null  object \n",
      " 9   written_during_early_access     115959 non-null  object \n",
      " 10  author.num_games_owned          115959 non-null  float64\n",
      " 11  author.num_reviews              115959 non-null  float64\n",
      " 12  author.playtime_forever         115959 non-null  float64\n",
      " 13  author.playtime_last_two_weeks  115959 non-null  float64\n",
      " 14  author.playtime_at_review       115798 non-null  float64\n",
      " 15  author.last_played              115959 non-null  float64\n",
      " 16  timestamp_dev_responded         15 non-null      float64\n",
      " 17  developer_response              15 non-null      object \n",
      "dtypes: float64(10), object(8)\n",
      "memory usage: 16.8+ MB\n"
     ]
    }
   ],
   "source": [
    "df.info()"
   ]
  },
  {
   "cell_type": "code",
   "execution_count": 33,
   "metadata": {},
   "outputs": [
    {
     "data": {
      "text/html": [
       "<div>\n",
       "<style scoped>\n",
       "    .dataframe tbody tr th:only-of-type {\n",
       "        vertical-align: middle;\n",
       "    }\n",
       "\n",
       "    .dataframe tbody tr th {\n",
       "        vertical-align: top;\n",
       "    }\n",
       "\n",
       "    .dataframe thead th {\n",
       "        text-align: right;\n",
       "    }\n",
       "</style>\n",
       "<table border=\"1\" class=\"dataframe\">\n",
       "  <thead>\n",
       "    <tr style=\"text-align: right;\">\n",
       "      <th></th>\n",
       "      <th>language</th>\n",
       "      <th>review</th>\n",
       "      <th>voted_up</th>\n",
       "      <th>votes_up</th>\n",
       "      <th>votes_funny</th>\n",
       "      <th>weighted_vote_score</th>\n",
       "      <th>comment_count</th>\n",
       "      <th>steam_purchase</th>\n",
       "      <th>received_for_free</th>\n",
       "      <th>written_during_early_access</th>\n",
       "      <th>author.num_games_owned</th>\n",
       "      <th>author.num_reviews</th>\n",
       "      <th>author.playtime_forever</th>\n",
       "      <th>author.playtime_last_two_weeks</th>\n",
       "      <th>author.playtime_at_review</th>\n",
       "      <th>author.last_played</th>\n",
       "      <th>timestamp_dev_responded</th>\n",
       "      <th>developer_response</th>\n",
       "    </tr>\n",
       "  </thead>\n",
       "  <tbody>\n",
       "    <tr>\n",
       "      <th>0</th>\n",
       "      <td>english</td>\n",
       "      <td>After playing and absolutely loving Hades, I d...</td>\n",
       "      <td>True</td>\n",
       "      <td>0.0</td>\n",
       "      <td>0.0</td>\n",
       "      <td>0</td>\n",
       "      <td>0.0</td>\n",
       "      <td>True</td>\n",
       "      <td>False</td>\n",
       "      <td>False</td>\n",
       "      <td>0.0</td>\n",
       "      <td>14.0</td>\n",
       "      <td>318.0</td>\n",
       "      <td>318.0</td>\n",
       "      <td>318.0</td>\n",
       "      <td>1.686621e+09</td>\n",
       "      <td>NaN</td>\n",
       "      <td>NaN</td>\n",
       "    </tr>\n",
       "    <tr>\n",
       "      <th>1</th>\n",
       "      <td>english</td>\n",
       "      <td>The game is great, combat is fun with lots of ...</td>\n",
       "      <td>True</td>\n",
       "      <td>0.0</td>\n",
       "      <td>0.0</td>\n",
       "      <td>0</td>\n",
       "      <td>0.0</td>\n",
       "      <td>True</td>\n",
       "      <td>False</td>\n",
       "      <td>False</td>\n",
       "      <td>180.0</td>\n",
       "      <td>6.0</td>\n",
       "      <td>392.0</td>\n",
       "      <td>392.0</td>\n",
       "      <td>392.0</td>\n",
       "      <td>1.686748e+09</td>\n",
       "      <td>NaN</td>\n",
       "      <td>NaN</td>\n",
       "    </tr>\n",
       "    <tr>\n",
       "      <th>9</th>\n",
       "      <td>english</td>\n",
       "      <td>Finished this game off-steam, but have to come...</td>\n",
       "      <td>True</td>\n",
       "      <td>0.0</td>\n",
       "      <td>0.0</td>\n",
       "      <td>0</td>\n",
       "      <td>0.0</td>\n",
       "      <td>True</td>\n",
       "      <td>False</td>\n",
       "      <td>False</td>\n",
       "      <td>0.0</td>\n",
       "      <td>124.0</td>\n",
       "      <td>233.0</td>\n",
       "      <td>0.0</td>\n",
       "      <td>233.0</td>\n",
       "      <td>1.546734e+09</td>\n",
       "      <td>NaN</td>\n",
       "      <td>NaN</td>\n",
       "    </tr>\n",
       "    <tr>\n",
       "      <th>10</th>\n",
       "      <td>english</td>\n",
       "      <td>[h1]Comentario Analítico: \"Bastion\"[/h1]\\n\\nEn...</td>\n",
       "      <td>True</td>\n",
       "      <td>3.0</td>\n",
       "      <td>0.0</td>\n",
       "      <td>0.559255659580230713</td>\n",
       "      <td>0.0</td>\n",
       "      <td>False</td>\n",
       "      <td>False</td>\n",
       "      <td>False</td>\n",
       "      <td>0.0</td>\n",
       "      <td>271.0</td>\n",
       "      <td>672.0</td>\n",
       "      <td>0.0</td>\n",
       "      <td>672.0</td>\n",
       "      <td>1.560983e+09</td>\n",
       "      <td>NaN</td>\n",
       "      <td>NaN</td>\n",
       "    </tr>\n",
       "    <tr>\n",
       "      <th>11</th>\n",
       "      <td>english</td>\n",
       "      <td>Supergiants first game and you can tell it's m...</td>\n",
       "      <td>True</td>\n",
       "      <td>0.0</td>\n",
       "      <td>0.0</td>\n",
       "      <td>0</td>\n",
       "      <td>0.0</td>\n",
       "      <td>True</td>\n",
       "      <td>False</td>\n",
       "      <td>False</td>\n",
       "      <td>395.0</td>\n",
       "      <td>24.0</td>\n",
       "      <td>279.0</td>\n",
       "      <td>0.0</td>\n",
       "      <td>279.0</td>\n",
       "      <td>1.641619e+09</td>\n",
       "      <td>NaN</td>\n",
       "      <td>NaN</td>\n",
       "    </tr>\n",
       "  </tbody>\n",
       "</table>\n",
       "</div>"
      ],
      "text/plain": [
       "   language                                             review voted_up  \\\n",
       "0   english  After playing and absolutely loving Hades, I d...     True   \n",
       "1   english  The game is great, combat is fun with lots of ...     True   \n",
       "9   english  Finished this game off-steam, but have to come...     True   \n",
       "10  english  [h1]Comentario Analítico: \"Bastion\"[/h1]\\n\\nEn...     True   \n",
       "11  english  Supergiants first game and you can tell it's m...     True   \n",
       "\n",
       "    votes_up  votes_funny   weighted_vote_score  comment_count steam_purchase  \\\n",
       "0        0.0          0.0                     0            0.0           True   \n",
       "1        0.0          0.0                     0            0.0           True   \n",
       "9        0.0          0.0                     0            0.0           True   \n",
       "10       3.0          0.0  0.559255659580230713            0.0          False   \n",
       "11       0.0          0.0                     0            0.0           True   \n",
       "\n",
       "   received_for_free written_during_early_access  author.num_games_owned  \\\n",
       "0              False                       False                     0.0   \n",
       "1              False                       False                   180.0   \n",
       "9              False                       False                     0.0   \n",
       "10             False                       False                     0.0   \n",
       "11             False                       False                   395.0   \n",
       "\n",
       "    author.num_reviews  author.playtime_forever  \\\n",
       "0                 14.0                    318.0   \n",
       "1                  6.0                    392.0   \n",
       "9                124.0                    233.0   \n",
       "10               271.0                    672.0   \n",
       "11                24.0                    279.0   \n",
       "\n",
       "    author.playtime_last_two_weeks  author.playtime_at_review  \\\n",
       "0                            318.0                      318.0   \n",
       "1                            392.0                      392.0   \n",
       "9                              0.0                      233.0   \n",
       "10                             0.0                      672.0   \n",
       "11                             0.0                      279.0   \n",
       "\n",
       "    author.last_played  timestamp_dev_responded developer_response  \n",
       "0         1.686621e+09                      NaN                NaN  \n",
       "1         1.686748e+09                      NaN                NaN  \n",
       "9         1.546734e+09                      NaN                NaN  \n",
       "10        1.560983e+09                      NaN                NaN  \n",
       "11        1.641619e+09                      NaN                NaN  "
      ]
     },
     "execution_count": 33,
     "metadata": {},
     "output_type": "execute_result"
    }
   ],
   "source": [
    "df.head()"
   ]
  },
  {
   "cell_type": "code",
   "execution_count": 11,
   "metadata": {},
   "outputs": [],
   "source": [
    "# Now, drop the columns\n",
    "df_process = pd.DataFrame(df['review'])"
   ]
  },
  {
   "cell_type": "code",
   "execution_count": 12,
   "metadata": {},
   "outputs": [
    {
     "name": "stdout",
     "output_type": "stream",
     "text": [
      "<class 'pandas.core.frame.DataFrame'>\n",
      "Int64Index: 149410 entries, 0 to 293645\n",
      "Data columns (total 1 columns):\n",
      " #   Column  Non-Null Count   Dtype \n",
      "---  ------  --------------   ----- \n",
      " 0   review  149410 non-null  object\n",
      "dtypes: object(1)\n",
      "memory usage: 2.3+ MB\n"
     ]
    }
   ],
   "source": [
    "df_process.info()"
   ]
  },
  {
   "cell_type": "code",
   "execution_count": 13,
   "metadata": {},
   "outputs": [],
   "source": [
    "df_process['review'] = df_process['review'].astype(str)"
   ]
  },
  {
   "cell_type": "code",
   "execution_count": 14,
   "metadata": {},
   "outputs": [
    {
     "name": "stdout",
     "output_type": "stream",
     "text": [
      "<class 'pandas.core.frame.DataFrame'>\n",
      "Int64Index: 149410 entries, 0 to 293645\n",
      "Data columns (total 1 columns):\n",
      " #   Column  Non-Null Count   Dtype \n",
      "---  ------  --------------   ----- \n",
      " 0   review  149410 non-null  object\n",
      "dtypes: object(1)\n",
      "memory usage: 2.3+ MB\n"
     ]
    }
   ],
   "source": [
    "df_process.info()"
   ]
  },
  {
   "cell_type": "code",
   "execution_count": 18,
   "metadata": {},
   "outputs": [],
   "source": [
    "df_process.drop('review', axis=1, inplace=True)"
   ]
  },
  {
   "cell_type": "code",
   "execution_count": 23,
   "metadata": {},
   "outputs": [
    {
     "name": "stdout",
     "output_type": "stream",
     "text": [
      "object\n"
     ]
    }
   ],
   "source": [
    "print(df_process['processed_review'].dtypes)"
   ]
  },
  {
   "cell_type": "code",
   "execution_count": 22,
   "metadata": {},
   "outputs": [
    {
     "name": "stdout",
     "output_type": "stream",
     "text": [
      "object\n"
     ]
    }
   ],
   "source": [
    "# Convert all values in the 'processed_review' column to strings\n",
    "df_process['processed_review'] = df_process['processed_review'].apply(str)\n",
    "\n",
    "# Check the data types in the 'processed_review' column\n",
    "print(df_process['processed_review'].dtypes)"
   ]
  },
  {
   "cell_type": "code",
   "execution_count": 15,
   "metadata": {},
   "outputs": [],
   "source": [
    "df_process.to_csv('reviews_processed.csv', index=False)"
   ]
  },
  {
   "cell_type": "code",
   "execution_count": null,
   "metadata": {},
   "outputs": [],
   "source": []
  },
  {
   "cell_type": "markdown",
   "metadata": {},
   "source": [
    "Lemmatize?"
   ]
  },
  {
   "cell_type": "code",
   "execution_count": null,
   "metadata": {},
   "outputs": [],
   "source": [
    "# Instantiate a PorterStemmer\n",
    "ps = PorterStemmer()\n",
    "\n",
    "def preprocess_text(text):\n",
    "    # Lowercase the text\n",
    "    text = text.lower()\n",
    "    \n",
    "    # Remove punctuation\n",
    "    text = re.sub('[^a-z]', ' ', text)\n",
    "    \n",
    "    # Split the text into words and remove stopwords, then apply stemming\n",
    "    text = ' '.join(ps.stem(word) for word in text.split() if word not in set(stopwords.words('english')))\n",
    "    \n",
    "    return text\n",
    "\n",
    "# Apply the preprocessing to each review\n",
    "df_process['processed_review'] = df_process['review'].apply(preprocess_text)\n",
    "\n",
    "# Filter out any reviews that are now just 'nan'\n",
    "df_process = df_process[df_process['processed_review'] != 'nan']"
   ]
  },
  {
   "cell_type": "code",
   "execution_count": null,
   "metadata": {},
   "outputs": [],
   "source": [
    "vectorizer = TfidfVectorizer(max_features=2500) # Use the top 2500 words as features\n",
    "X = vectorizer.fit_transform(df['review']).toarray()"
   ]
  },
  {
   "cell_type": "code",
   "execution_count": null,
   "metadata": {},
   "outputs": [],
   "source": [
    "le = LabelEncoder()\n",
    "y = le.fit_transform(df['label']) # Assuming your labels column is named 'label'"
   ]
  },
  {
   "cell_type": "code",
   "execution_count": null,
   "metadata": {},
   "outputs": [],
   "source": [
    "X_train, X_test, y_train, y_test = train_test_split(X, y, test_size=0.2, random_state=42)"
   ]
  },
  {
   "cell_type": "code",
   "execution_count": null,
   "metadata": {},
   "outputs": [],
   "source": [
    "model = MultinomialNB()\n",
    "model.fit(X_train, y_train)"
   ]
  },
  {
   "cell_type": "code",
   "execution_count": null,
   "metadata": {},
   "outputs": [],
   "source": [
    "y_pred = model.predict(X_test)\n",
    "\n",
    "print(\"Classification Report: \\n\", classification_report(y_test, y_pred, target_names=le.classes_))\n",
    "print(\"Confusion Matrix: \\n\", confusion_matrix(y_test, y_pred))\n",
    "print(\"Accuracy: \\n\", accuracy_score(y_test, y_pred))"
   ]
  }
 ],
 "metadata": {
  "kernelspec": {
   "display_name": "Python 3 (ipykernel)",
   "language": "python",
   "name": "python3"
  },
  "language_info": {
   "codemirror_mode": {
    "name": "ipython",
    "version": 3
   },
   "file_extension": ".py",
   "mimetype": "text/x-python",
   "name": "python",
   "nbconvert_exporter": "python",
   "pygments_lexer": "ipython3",
   "version": "3.11.3"
  }
 },
 "nbformat": 4,
 "nbformat_minor": 4
}
